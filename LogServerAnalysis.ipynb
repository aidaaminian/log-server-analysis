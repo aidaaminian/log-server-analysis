{
  "cells": [
    {
      "cell_type": "markdown",
      "metadata": {
        "id": "final-national"
      },
      "source": [
        "# Log Server Analysis\n",
        "\n",
        "This is the assignment **#1** related to **Machine Learning** section of the **Artificial Intelligence** course at **Shahid Beheshti University**. ([Course repository link](https://github.com/SBU-CE/Artificial-Intelligence)).\n",
        "\n",
        "In this notebook, we will take advantage of three principal python libraries for data science and machine learning tasks.\n",
        "\n",
        " - [Numpy](https://numpy.org): The fundamental package for **scientific computing** with Python.\n",
        " - [Pandas](https://pandas.pydata.org): An open source **data analysis and manipulation tool**, built on top of the Python programming language.\n",
        " - [Matplotlib](https://matplotlib.org) : A comprehensive library for **creating static, animated, and interactive visualizations** in Python.\n",
        " \n",
        " \n",
        " **Before you start:** Please read the ***Submission*** section at the bottom of the notebook carefully."
      ],
      "id": "final-national"
    },
    {
      "cell_type": "markdown",
      "metadata": {
        "id": "american-desperate"
      },
      "source": [
        "# 0. What Is Log Analysis & Why Is It Important? "
      ],
      "id": "american-desperate"
    },
    {
      "cell_type": "markdown",
      "metadata": {
        "id": "cardiac-student"
      },
      "source": [
        "**Log analysis** is the process of making sense of computer-generated log messages, also known as log events, audit trail records, or simply logs. Most businesses are required to archive and analyze logs of their websites requests from their clients as part of their compliance regulations. \n",
        "\n",
        "They must regularly perform system log monitoring and analysis to search for **errors**, **anomalies**, or **suspicious** or **unauthorized activity** that deviates from the norm. Log analysis allows them to re-create the chain of events that led up to a problem and effectively troubleshoot it.\n",
        "\n",
        "Web sever logs contain information on any event that was registered/logged. This contains a lot of insights on website visitors, behavior, crawlers accessing the site, business insights, security issues, and more."
      ],
      "id": "cardiac-student"
    },
    {
      "cell_type": "markdown",
      "metadata": {
        "id": "afraid-transsexual"
      },
      "source": [
        "## Data\n",
        "\n",
        "In this notebook, we will use the 3.3GB of logs from an Iranian ecommerce website [zanbil.ir](zanbil.ir). \n",
        "\n",
        "**Acknowledgements**: \n",
        "Zaker, Farzin, 2019, \"*Online Shopping Store - Web Server Logs*\", https://doi.org/10.7910/DVN/3QBYB5, Harvard Dataverse, V1.\n",
        "\n",
        "Please download the raw dataset `access.log` from https://www.kaggle.com/eliasdabbas/web-server-access-logs([~ 264MB]) and put it besides this notebook in the current directory.\n",
        "\n",
        "So let's dive into it!"
      ],
      "id": "afraid-transsexual"
    },
    {
      "cell_type": "markdown",
      "metadata": {
        "id": "residential-mainstream"
      },
      "source": [
        "## Setup\n",
        "\n",
        "We will heavily use NumPy, Pandas and Matplotlib libraries in this assignment. Notice that you are free to import other libraries in case they are needed."
      ],
      "id": "residential-mainstream"
    },
    {
      "cell_type": "code",
      "execution_count": null,
      "metadata": {
        "colab": {
          "base_uri": "https://localhost:8080/"
        },
        "id": "7h2qIjcDZD9s",
        "outputId": "2bf44aae-6a84-49d3-ac73-d2730296902d"
      },
      "outputs": [
        {
          "name": "stdout",
          "output_type": "stream",
          "text": [
            "Requirement already satisfied: kaggle in /usr/local/lib/python3.7/dist-packages (1.5.12)\n",
            "Requirement already satisfied: python-dateutil in /usr/local/lib/python3.7/dist-packages (from kaggle) (2.8.2)\n",
            "Requirement already satisfied: requests in /usr/local/lib/python3.7/dist-packages (from kaggle) (2.23.0)\n",
            "Requirement already satisfied: tqdm in /usr/local/lib/python3.7/dist-packages (from kaggle) (4.62.3)\n",
            "Requirement already satisfied: urllib3 in /usr/local/lib/python3.7/dist-packages (from kaggle) (1.24.3)\n",
            "Requirement already satisfied: python-slugify in /usr/local/lib/python3.7/dist-packages (from kaggle) (5.0.2)\n",
            "Requirement already satisfied: certifi in /usr/local/lib/python3.7/dist-packages (from kaggle) (2021.10.8)\n",
            "Requirement already satisfied: six>=1.10 in /usr/local/lib/python3.7/dist-packages (from kaggle) (1.15.0)\n",
            "Requirement already satisfied: text-unidecode>=1.3 in /usr/local/lib/python3.7/dist-packages (from python-slugify->kaggle) (1.3)\n",
            "Requirement already satisfied: chardet<4,>=3.0.2 in /usr/local/lib/python3.7/dist-packages (from requests->kaggle) (3.0.4)\n",
            "Requirement already satisfied: idna<3,>=2.5 in /usr/local/lib/python3.7/dist-packages (from requests->kaggle) (2.10)\n"
          ]
        }
      ],
      "source": [
        "!pip install kaggle\n",
        "!mkdir ~/.kaggle\n",
        "!cp kaggle.json ~/.kaggle/\n",
        "!chmod 600 ~/.kaggle/kaggle.json"
      ],
      "id": "7h2qIjcDZD9s"
    },
    {
      "cell_type": "code",
      "execution_count": null,
      "metadata": {
        "colab": {
          "base_uri": "https://localhost:8080/"
        },
        "id": "3DKrhE2uYIlU",
        "outputId": "c289bfb9-61d8-478f-f19a-d16ad1fc81b5"
      },
      "outputs": [
        {
          "name": "stdout",
          "output_type": "stream",
          "text": [
            "Downloading web-server-access-logs.zip to /content\n",
            " 99% 263M/267M [00:02<00:00, 137MB/s]\n",
            "100% 267M/267M [00:02<00:00, 133MB/s]\n"
          ]
        }
      ],
      "source": [
        "!kaggle datasets download -d eliasdabbas/web-server-access-logs"
      ],
      "id": "3DKrhE2uYIlU"
    },
    {
      "cell_type": "code",
      "execution_count": null,
      "metadata": {
        "colab": {
          "base_uri": "https://localhost:8080/"
        },
        "id": "HYaR49sOauCj",
        "outputId": "ebcec2c6-8733-4a01-a844-3c0576b45372"
      },
      "outputs": [
        {
          "name": "stdout",
          "output_type": "stream",
          "text": [
            "Archive:  web-server-access-logs.zip\n",
            "  inflating: access.log              \n",
            "  inflating: client_hostname.csv     \n"
          ]
        }
      ],
      "source": [
        "!unzip \\*.zip  && rm *.zip"
      ],
      "id": "HYaR49sOauCj"
    },
    {
      "cell_type": "code",
      "execution_count": null,
      "metadata": {
        "id": "recovered-habitat"
      },
      "outputs": [],
      "source": [
        "import numpy as np\n",
        "import pandas as pd\n",
        "import matplotlib.pyplot as plt"
      ],
      "id": "recovered-habitat"
    },
    {
      "cell_type": "markdown",
      "metadata": {
        "id": "municipal-elevation"
      },
      "source": [
        "# 1. Convert a Log File Into an Efficient DataFrame\n",
        "\n",
        "This first step is the prototype of a process of converting a log file to an efficient format on disk (Apache Parquet), and then to read it into an efficient DataFrame with optimized datatypes.\n",
        "\n",
        "In this part we convert a 3.3 GB text file to a 256 MB parquet file, which is later read into a 297 MB DataFrame. The total time can vary between two to five minutes, depending on the system used. \n",
        "\n",
        "**Note**: Make sure to **sequentially run all the cells**, so that the intermediate variables / packages will carry over to the next cell."
      ],
      "id": "municipal-elevation"
    },
    {
      "cell_type": "code",
      "execution_count": null,
      "metadata": {
        "colab": {
          "base_uri": "https://localhost:8080/"
        },
        "id": "electric-classic",
        "outputId": "ce3a13b2-dff4-47e2-9333-63f606ea9c7a"
      },
      "outputs": [
        {
          "name": "stdout",
          "output_type": "stream",
          "text": [
            "54.36.149.41 - - [22/Jan/2019:03:56:14 +0330] \"GET /filter/27|13%20%D9%85%DA%AF%D8%A7%D9%BE%DB%8C%DA%A9%D8%B3%D9%84,27|%DA%A9%D9%85%D8%AA%D8%B1%20%D8%A7%D8%B2%205%20%D9%85%DA%AF%D8%A7%D9%BE%DB%8C%DA%A9%D8%B3%D9%84,p53 HTTP/1.1\" 200 30577 \"-\" \"Mozilla/5.0 (compatible; AhrefsBot/6.1; +http://ahrefs.com/robot/)\" \"-\"\n",
            "31.56.96.51 - - [22/Jan/2019:03:56:16 +0330] \"GET /image/60844/productModel/200x200 HTTP/1.1\" 200 5667 \"https://www.zanbil.ir/m/filter/b113\" \"Mozilla/5.0 (Linux; Android 6.0; ALE-L21 Build/HuaweiALE-L21) AppleWebKit/537.36 (KHTML, like Gecko) Chrome/66.0.3359.158 Mobile Safari/537.36\" \"-\"\n",
            "31.56.96.51 - - [22/Jan/2019:03:56:16 +0330] \"GET /image/61474/productModel/200x200 HTTP/1.1\" 200 5379 \"https://www.zanbil.ir/m/filter/b113\" \"Mozilla/5.0 (Linux; Android 6.0; ALE-L21 Build/HuaweiALE-L21) AppleWebKit/537.36 (KHTML, like Gecko) Chrome/66.0.3359.158 Mobile Safari/537.36\" \"-\"\n"
          ]
        }
      ],
      "source": [
        "# read some sample lines from the log file\n",
        "!head -n 3 access.log"
      ],
      "id": "electric-classic"
    },
    {
      "cell_type": "markdown",
      "metadata": {
        "id": "solid-fancy"
      },
      "source": [
        "## Log Format\n",
        "\n",
        "This approach assumes the common log format and/or the combined one, which are two of the most commonly used. Eventually other formats can be incorporated. We start with the below regular expression taken from:\n",
        "\n",
        "[Regular Expression Cookbook](https://www.oreilly.com/library/view/regular-expressions-cookbook/9781449327453/ch07s12.html)\n",
        "\n",
        "by *Jan Goyvaerts, Steven Levithan*\n",
        "\n",
        "Publisher: O'Reilly Media, Inc. Release Date: August 2012"
      ],
      "id": "solid-fancy"
    },
    {
      "cell_type": "code",
      "execution_count": null,
      "metadata": {
        "id": "forward-zimbabwe"
      },
      "outputs": [],
      "source": [
        "# There is a minor bug in this regex, it misses the last field. we'll fix this soon. \n",
        "\n",
        "common_regex = '^(?P<client>\\S+) \\S+ (?P<userid>\\S+) \\[(?P<datetime>[^\\]]+)\\] \"(?P<method>[A-Z]+) (?P<request>[^ \"]+)? HTTP/[0-9.]+\" (?P<status>[0-9]{3}) (?P<size>[0-9]+|-)'\n",
        "combined_regex = '^(?P<client>\\S+) \\S+ (?P<userid>\\S+) \\[(?P<datetime>[^\\]]+)\\] \"(?P<method>[A-Z]+) (?P<request>[^ \"]+)? HTTP/[0-9.]+\" (?P<status>[0-9]{3}) (?P<size>[0-9]+|-) \"(?P<referrer>[^\"]*)\" \"(?P<useragent>[^\"]*)'\n",
        "columns = ['client', 'userid', 'datetime', 'method', 'request', 'status', 'size', 'referer', 'user_agent']"
      ],
      "id": "forward-zimbabwe"
    },
    {
      "cell_type": "markdown",
      "metadata": {
        "id": "biological-skating"
      },
      "source": [
        "## The Approach\n",
        "\n",
        "* Loop through the lines of the input log file one by one. This ensures minimal memory consumption. \n",
        "* For each line, check it against the regular expression, and process it: \n",
        "  * Match: append the matched line to a `parsed_lines` list\n",
        "  * No match: append the non-matching line to the `errors_file` for later analysis\n",
        "* Once `parsed_lines` reaches 250,000 elements, convert the list to a DataFrame and save it to a `parquet` file in the `output_dir`. Clear the list. This also ensures minimal memory usage, and the 250k can be tweaked if necessary.\n",
        "* Read all the files of the `output_dir` with `read_parquet` into a pandas DataFrame. This function handles reading all the files and combines them. \n",
        "* Optimize the columns by using more efficient data types, most notably the pandas categorical type.\n",
        "* Write the DataFrame to a single file, for more convenient handling, and with the more efficient datatypes. This results in even faster reading.\n",
        "* Delete the files in `output_dir`.\n",
        "* Read in the final file with `read_parquet`.\n",
        "* Happy log server analyzing!\n"
      ],
      "id": "biological-skating"
    },
    {
      "cell_type": "code",
      "execution_count": null,
      "metadata": {
        "id": "moving-bankruptcy"
      },
      "outputs": [],
      "source": [
        "# Create a destinatoin directory where output files will be stored\n",
        "%mkdir parquet_dir"
      ],
      "id": "moving-bankruptcy"
    },
    {
      "cell_type": "code",
      "execution_count": null,
      "metadata": {
        "colab": {
          "base_uri": "https://localhost:8080/"
        },
        "id": "animal-cloud",
        "outputId": "190d619e-c2de-4b7c-a638-c17de1151b15"
      },
      "outputs": [
        {
          "name": "stdout",
          "output_type": "stream",
          "text": [
            "Requirement already satisfied: pyarrow in /usr/local/lib/python3.7/dist-packages (3.0.0)\n",
            "Requirement already satisfied: numpy>=1.16.6 in /usr/local/lib/python3.7/dist-packages (from pyarrow) (1.19.5)\n",
            "Collecting fastparquet\n",
            "  Downloading fastparquet-0.7.2-cp37-cp37m-manylinux2010_x86_64.whl (1.2 MB)\n",
            "\u001b[K     |████████████████████████████████| 1.2 MB 5.2 MB/s \n",
            "\u001b[?25hRequirement already satisfied: numpy>=1.18 in /usr/local/lib/python3.7/dist-packages (from fastparquet) (1.19.5)\n",
            "Collecting cramjam>=2.3.0\n",
            "  Downloading cramjam-2.5.0-cp37-cp37m-manylinux_2_5_x86_64.manylinux1_x86_64.whl (1.6 MB)\n",
            "\u001b[K     |████████████████████████████████| 1.6 MB 23.6 MB/s \n",
            "\u001b[?25hCollecting thrift>=0.11.0\n",
            "  Downloading thrift-0.15.0.tar.gz (59 kB)\n",
            "\u001b[K     |████████████████████████████████| 59 kB 5.9 MB/s \n",
            "\u001b[?25hRequirement already satisfied: pandas>=1.1.0 in /usr/local/lib/python3.7/dist-packages (from fastparquet) (1.1.5)\n",
            "Collecting fsspec\n",
            "  Downloading fsspec-2021.11.1-py3-none-any.whl (132 kB)\n",
            "\u001b[K     |████████████████████████████████| 132 kB 58.0 MB/s \n",
            "\u001b[?25hRequirement already satisfied: pytz>=2017.2 in /usr/local/lib/python3.7/dist-packages (from pandas>=1.1.0->fastparquet) (2018.9)\n",
            "Requirement already satisfied: python-dateutil>=2.7.3 in /usr/local/lib/python3.7/dist-packages (from pandas>=1.1.0->fastparquet) (2.8.2)\n",
            "Requirement already satisfied: six>=1.5 in /usr/local/lib/python3.7/dist-packages (from python-dateutil>=2.7.3->pandas>=1.1.0->fastparquet) (1.15.0)\n",
            "Building wheels for collected packages: thrift\n",
            "  Building wheel for thrift (setup.py) ... \u001b[?25l\u001b[?25hdone\n",
            "  Created wheel for thrift: filename=thrift-0.15.0-cp37-cp37m-linux_x86_64.whl size=348174 sha256=82b10edc1c2100df97992cdb7e7d686b868c19e59af43a52ed6f22c4a6c7f73e\n",
            "  Stored in directory: /root/.cache/pip/wheels/ba/1f/8e/e6fd36837eecf3d1f2b23f1729477e8e06558d8d60b7093f51\n",
            "Successfully built thrift\n",
            "Installing collected packages: thrift, fsspec, cramjam, fastparquet\n",
            "Successfully installed cramjam-2.5.0 fastparquet-0.7.2 fsspec-2021.11.1 thrift-0.15.0\n"
          ]
        }
      ],
      "source": [
        "# install some usefull packages for converting log file to parquet format\n",
        "\n",
        "%pip install pyarrow\n",
        "%pip install fastparquet"
      ],
      "id": "animal-cloud"
    },
    {
      "cell_type": "markdown",
      "metadata": {
        "id": "foreign-nursing"
      },
      "source": [
        "## The `logs_to_df` Function\n",
        "\n",
        "This function will convert the `access.log` file into an optimized `DataFrame` and also write the errors happend during converting (e.g. some lines of the log file are not following the common format of nginx log) intp `errors.txt`."
      ],
      "id": "foreign-nursing"
    },
    {
      "cell_type": "code",
      "execution_count": null,
      "metadata": {
        "id": "adult-farmer"
      },
      "outputs": [],
      "source": [
        "import time\n",
        "import re\n",
        "from tqdm import tqdm\n",
        "\n",
        "def logs_to_df(logfile, output_dir, errors_file):\n",
        "    with open(logfile) as source_file:\n",
        "        linenumber = 0\n",
        "        parsed_lines = []\n",
        "        for line in tqdm(source_file):\n",
        "            try:\n",
        "                log_line = re.findall(combined_regex, line)[0]\n",
        "                parsed_lines.append(log_line)\n",
        "            except Exception as e:\n",
        "                with open(errors_file, 'at') as errfile:\n",
        "                    print((line, str(e)), file=errfile)\n",
        "                continue\n",
        "            linenumber += 1\n",
        "            if linenumber % 250_000 == 0:\n",
        "                df = pd.DataFrame(parsed_lines, columns=columns)\n",
        "                df.to_parquet(f'{output_dir}/file_{linenumber}.parquet')\n",
        "                parsed_lines.clear()\n",
        "        else:\n",
        "            df = pd.DataFrame(parsed_lines, columns=columns)\n",
        "            df.to_parquet(f'{output_dir}/file_{linenumber}.parquet')\n",
        "            parsed_lines.clear()"
      ],
      "id": "adult-farmer"
    },
    {
      "cell_type": "code",
      "execution_count": null,
      "metadata": {
        "colab": {
          "base_uri": "https://localhost:8080/"
        },
        "id": "increasing-cradle",
        "outputId": "e7450561-29e0-4824-ea76-d1121f4192d5"
      },
      "outputs": [
        {
          "name": "stderr",
          "output_type": "stream",
          "text": [
            "10365152it [01:33, 111007.43it/s]\n"
          ]
        },
        {
          "name": "stdout",
          "output_type": "stream",
          "text": [
            "CPU times: user 1min 28s, sys: 7.41 s, total: 1min 35s\n",
            "Wall time: 1min 34s\n"
          ]
        }
      ],
      "source": [
        "# Times will vary from system to system, and I will use the approximate values, \n",
        "# so when you read this, you will likely see slightly different numbers.\n",
        "\n",
        "%time logs_to_df(logfile='access.log', output_dir='parquet_dir/', errors_file='errors.txt')"
      ],
      "id": "increasing-cradle"
    },
    {
      "cell_type": "markdown",
      "metadata": {
        "id": "seven-architect"
      },
      "source": [
        "Actually we are now ready to start analysis, as we have the parquet files that can be read. But we will optimize them even more.\n",
        "\n",
        "Just let's check the number of resulting parsing errors:"
      ],
      "id": "seven-architect"
    },
    {
      "cell_type": "code",
      "execution_count": null,
      "metadata": {
        "colab": {
          "base_uri": "https://localhost:8080/"
        },
        "id": "married-estate",
        "outputId": "cf9fa4f9-277e-4e4b-ad93-dc22063b9bd0"
      },
      "outputs": [
        {
          "name": "stdout",
          "output_type": "stream",
          "text": [
            "   287   7037 228081 errors.txt\n"
          ]
        }
      ],
      "source": [
        "!wc errors.txt"
      ],
      "id": "married-estate"
    },
    {
      "cell_type": "markdown",
      "metadata": {
        "id": "lyric-latest"
      },
      "source": [
        "Now we are able to read the whole parquet files. Reading the whole directory takes about nine seconds. We now check the size of the resulting directory on disk:"
      ],
      "id": "lyric-latest"
    },
    {
      "cell_type": "code",
      "execution_count": null,
      "metadata": {
        "colab": {
          "base_uri": "https://localhost:8080/"
        },
        "id": "tutorial-promise",
        "outputId": "5baa2636-45b8-48ce-ce57-a209aa8086fd"
      },
      "outputs": [
        {
          "name": "stdout",
          "output_type": "stream",
          "text": [
            "CPU times: user 16.3 s, sys: 5.49 s, total: 21.8 s\n",
            "Wall time: 15.3 s\n"
          ]
        }
      ],
      "source": [
        "%time logs_df = pd.read_parquet('parquet_dir/')"
      ],
      "id": "tutorial-promise"
    },
    {
      "cell_type": "code",
      "execution_count": null,
      "metadata": {
        "colab": {
          "base_uri": "https://localhost:8080/"
        },
        "id": "activated-strip",
        "outputId": "6c067c8d-bd01-4af5-d17d-27ea5506dbf1"
      },
      "outputs": [
        {
          "name": "stdout",
          "output_type": "stream",
          "text": [
            "257M\tparquet_dir/\n"
          ]
        }
      ],
      "source": [
        "!du -sh parquet_dir/"
      ],
      "id": "activated-strip"
    },
    {
      "cell_type": "markdown",
      "metadata": {
        "id": "cosmetic-fitting"
      },
      "source": [
        "256 ÷ 3,300 = 0.07.\n",
        "\n",
        "The resulting file is **7%** the size of the original!\n",
        "\n",
        "Let's see how much memory it takes:"
      ],
      "id": "cosmetic-fitting"
    },
    {
      "cell_type": "code",
      "execution_count": null,
      "metadata": {
        "colab": {
          "base_uri": "https://localhost:8080/"
        },
        "id": "portable-squad",
        "outputId": "36fa1b55-cf3b-46f7-d95d-2d48c56c62e1"
      },
      "outputs": [
        {
          "name": "stdout",
          "output_type": "stream",
          "text": [
            "<class 'pandas.core.frame.DataFrame'>\n",
            "RangeIndex: 10364865 entries, 0 to 10364864\n",
            "Data columns (total 9 columns):\n",
            " #   Column      Dtype \n",
            "---  ------      ----- \n",
            " 0   client      object\n",
            " 1   userid      object\n",
            " 2   datetime    object\n",
            " 3   method      object\n",
            " 4   request     object\n",
            " 5   status      object\n",
            " 6   size        object\n",
            " 7   referer     object\n",
            " 8   user_agent  object\n",
            "dtypes: object(9)\n",
            "memory usage: 711.7+ MB\n"
          ]
        }
      ],
      "source": [
        "# logs_df.info(show_counts=True, verbose=True)\n",
        "logs_df.info(verbose=True)"
      ],
      "id": "portable-squad"
    },
    {
      "cell_type": "markdown",
      "metadata": {
        "id": "special-planet"
      },
      "source": [
        "711 MB. We now can remove the files in `parquet_dir` and optimize the datatypes and use more efficient ones. \n",
        "\n",
        "**Note**: You can keep it for later usages. Since the kernel will die after you terminate the notebook, the dataframe will be removed from memory."
      ],
      "id": "special-planet"
    },
    {
      "cell_type": "code",
      "execution_count": null,
      "metadata": {
        "id": "guilty-midwest"
      },
      "outputs": [],
      "source": [
        "# %rm -r parquet_dir/"
      ],
      "id": "guilty-midwest"
    },
    {
      "cell_type": "markdown",
      "metadata": {
        "id": "incredible-choir"
      },
      "source": [
        "Now we optimize the dataframe by changing the column data types. It may take a few seconds:"
      ],
      "id": "incredible-choir"
    },
    {
      "cell_type": "code",
      "execution_count": null,
      "metadata": {
        "id": "exceptional-elimination"
      },
      "outputs": [],
      "source": [
        "logs_df['client'] = logs_df['client'].astype('category')\n",
        "del logs_df['userid']\n",
        "logs_df['datetime'] = pd.to_datetime(logs_df['datetime'], format='%d/%b/%Y:%H:%M:%S %z')\n",
        "logs_df['method'] = logs_df['method'].astype('category')\n",
        "logs_df['status'] = logs_df['status'].astype('int16')\n",
        "logs_df['size'] = logs_df['size'].astype('int32')\n",
        "logs_df['referer'] = logs_df['referer'].astype('category')\n",
        "logs_df['user_agent'] = logs_df['user_agent'].astype('category')"
      ],
      "id": "exceptional-elimination"
    },
    {
      "cell_type": "markdown",
      "metadata": {
        "id": "medieval-possession"
      },
      "source": [
        "**Note**: Some types are considered as `Categorical`. (client, method, referer and user_agent). You may need to convert them to *string* in some questions."
      ],
      "id": "medieval-possession"
    },
    {
      "cell_type": "code",
      "execution_count": null,
      "metadata": {
        "colab": {
          "base_uri": "https://localhost:8080/"
        },
        "id": "critical-cotton",
        "outputId": "8ae0c486-029f-4534-db73-a53bf9626690"
      },
      "outputs": [
        {
          "name": "stdout",
          "output_type": "stream",
          "text": [
            "<class 'pandas.core.frame.DataFrame'>\n",
            "RangeIndex: 10364865 entries, 0 to 10364864\n",
            "Data columns (total 8 columns):\n",
            " #   Column      Dtype                                \n",
            "---  ------      -----                                \n",
            " 0   client      category                             \n",
            " 1   datetime    datetime64[ns, pytz.FixedOffset(210)]\n",
            " 2   method      category                             \n",
            " 3   request     object                               \n",
            " 4   status      int16                                \n",
            " 5   size        int32                                \n",
            " 6   referer     category                             \n",
            " 7   user_agent  category                             \n",
            "dtypes: category(4), datetime64[ns, pytz.FixedOffset(210)](1), int16(1), int32(1), object(1)\n",
            "memory usage: 345.4+ MB\n"
          ]
        }
      ],
      "source": [
        "# logs_df.info(verbose=True, show_counts=True)\n",
        "logs_df.info(verbose=True)"
      ],
      "id": "critical-cotton"
    },
    {
      "cell_type": "markdown",
      "metadata": {
        "id": "clean-crown"
      },
      "source": [
        "The file was reduced further from 711 to 298 MB. (342 ÷ 711 = 0.42 of the original size).\n",
        "\n",
        "We now save it to a single file, and read again."
      ],
      "id": "clean-crown"
    },
    {
      "cell_type": "code",
      "execution_count": null,
      "metadata": {
        "id": "gothic-portable"
      },
      "outputs": [],
      "source": [
        "logs_df.to_parquet('logs_df.parquet')"
      ],
      "id": "gothic-portable"
    },
    {
      "cell_type": "markdown",
      "metadata": {
        "id": "devoted-diabetes"
      },
      "source": [
        "## Read the Parquet file into a DataFrame"
      ],
      "id": "devoted-diabetes"
    },
    {
      "cell_type": "code",
      "execution_count": null,
      "metadata": {
        "colab": {
          "base_uri": "https://localhost:8080/",
          "height": 589
        },
        "id": "adult-rugby",
        "outputId": "7165f1f4-40a9-4751-f6a0-1e3f73a58c2b"
      },
      "outputs": [
        {
          "name": "stdout",
          "output_type": "stream",
          "text": [
            "DataFrame shape: (10364865, 8)\n"
          ]
        },
        {
          "data": {
            "text/html": [
              "<div>\n",
              "<style scoped>\n",
              "    .dataframe tbody tr th:only-of-type {\n",
              "        vertical-align: middle;\n",
              "    }\n",
              "\n",
              "    .dataframe tbody tr th {\n",
              "        vertical-align: top;\n",
              "    }\n",
              "\n",
              "    .dataframe thead th {\n",
              "        text-align: right;\n",
              "    }\n",
              "</style>\n",
              "<table border=\"1\" class=\"dataframe\">\n",
              "  <thead>\n",
              "    <tr style=\"text-align: right;\">\n",
              "      <th></th>\n",
              "      <th>client</th>\n",
              "      <th>datetime</th>\n",
              "      <th>method</th>\n",
              "      <th>request</th>\n",
              "      <th>status</th>\n",
              "      <th>size</th>\n",
              "      <th>referer</th>\n",
              "      <th>user_agent</th>\n",
              "    </tr>\n",
              "  </thead>\n",
              "  <tbody>\n",
              "    <tr>\n",
              "      <th>0</th>\n",
              "      <td>37.152.163.59</td>\n",
              "      <td>2019-01-22 12:38:27+03:30</td>\n",
              "      <td>GET</td>\n",
              "      <td>/image/29314?name=%D8%AF%DB%8C%D8%A8%D8%A7-7.j...</td>\n",
              "      <td>200</td>\n",
              "      <td>1105</td>\n",
              "      <td>https://www.zanbil.ir/product/29314/%DA%A9%D8%...</td>\n",
              "      <td>Mozilla/5.0 (Windows NT 6.1; WOW64; Trident/7....</td>\n",
              "    </tr>\n",
              "    <tr>\n",
              "      <th>1</th>\n",
              "      <td>37.152.163.59</td>\n",
              "      <td>2019-01-22 12:38:27+03:30</td>\n",
              "      <td>GET</td>\n",
              "      <td>/static/images/zanbil-kharid.png</td>\n",
              "      <td>200</td>\n",
              "      <td>358</td>\n",
              "      <td>https://www.zanbil.ir/product/29314/%DA%A9%D8%...</td>\n",
              "      <td>Mozilla/5.0 (Windows NT 6.1; WOW64; Trident/7....</td>\n",
              "    </tr>\n",
              "    <tr>\n",
              "      <th>2</th>\n",
              "      <td>85.9.73.119</td>\n",
              "      <td>2019-01-22 12:38:27+03:30</td>\n",
              "      <td>GET</td>\n",
              "      <td>/static/images/next.png</td>\n",
              "      <td>200</td>\n",
              "      <td>3045</td>\n",
              "      <td>https://znbl.ir/static/bundle-bundle_site_head...</td>\n",
              "      <td>Mozilla/5.0 (Windows NT 6.1; Win64; x64) Apple...</td>\n",
              "    </tr>\n",
              "    <tr>\n",
              "      <th>3</th>\n",
              "      <td>37.152.163.59</td>\n",
              "      <td>2019-01-22 12:38:27+03:30</td>\n",
              "      <td>GET</td>\n",
              "      <td>/image/29314?name=%D8%AF%DB%8C%D8%A8%D8%A7-4.j...</td>\n",
              "      <td>200</td>\n",
              "      <td>1457</td>\n",
              "      <td>https://www.zanbil.ir/product/29314/%DA%A9%D8%...</td>\n",
              "      <td>Mozilla/5.0 (Windows NT 6.1; WOW64; Trident/7....</td>\n",
              "    </tr>\n",
              "    <tr>\n",
              "      <th>4</th>\n",
              "      <td>85.9.73.119</td>\n",
              "      <td>2019-01-22 12:38:27+03:30</td>\n",
              "      <td>GET</td>\n",
              "      <td>/static/images/checked.png</td>\n",
              "      <td>200</td>\n",
              "      <td>1083</td>\n",
              "      <td>https://znbl.ir/static/bundle-bundle_site_head...</td>\n",
              "      <td>Mozilla/5.0 (Windows NT 6.1; Win64; x64) Apple...</td>\n",
              "    </tr>\n",
              "    <tr>\n",
              "      <th>5</th>\n",
              "      <td>37.152.163.59</td>\n",
              "      <td>2019-01-22 12:38:27+03:30</td>\n",
              "      <td>GET</td>\n",
              "      <td>/static/images/loading.gif</td>\n",
              "      <td>200</td>\n",
              "      <td>7370</td>\n",
              "      <td>https://www.zanbil.ir/product/29314/%DA%A9%D8%...</td>\n",
              "      <td>Mozilla/5.0 (Windows NT 6.1; WOW64; Trident/7....</td>\n",
              "    </tr>\n",
              "    <tr>\n",
              "      <th>6</th>\n",
              "      <td>77.245.233.52</td>\n",
              "      <td>2019-01-22 12:38:27+03:30</td>\n",
              "      <td>GET</td>\n",
              "      <td>/image/11082/productType/240x180</td>\n",
              "      <td>200</td>\n",
              "      <td>12458</td>\n",
              "      <td>https://www.zanbil.ir/browse/sports/%D8%AA%D8%...</td>\n",
              "      <td>Mozilla/5.0 (Windows NT 6.1; rv:64.0) Gecko/20...</td>\n",
              "    </tr>\n",
              "    <tr>\n",
              "      <th>7</th>\n",
              "      <td>37.27.128.139</td>\n",
              "      <td>2019-01-22 12:38:27+03:30</td>\n",
              "      <td>GET</td>\n",
              "      <td>/browse/Tablet-Arm-Chair/%D8%B5%D9%86%D8%AF%D9...</td>\n",
              "      <td>200</td>\n",
              "      <td>30604</td>\n",
              "      <td>https://www.zanbil.ir/browse/Classroom-Furnitu...</td>\n",
              "      <td>Mozilla/5.0 (Windows NT 5.1) AppleWebKit/537.3...</td>\n",
              "    </tr>\n",
              "    <tr>\n",
              "      <th>8</th>\n",
              "      <td>77.245.233.52</td>\n",
              "      <td>2019-01-22 12:38:27+03:30</td>\n",
              "      <td>GET</td>\n",
              "      <td>/image/851/mainSlide</td>\n",
              "      <td>200</td>\n",
              "      <td>89859</td>\n",
              "      <td>https://www.zanbil.ir/browse/sports/%D8%AA%D8%...</td>\n",
              "      <td>Mozilla/5.0 (Windows NT 6.1; rv:64.0) Gecko/20...</td>\n",
              "    </tr>\n",
              "    <tr>\n",
              "      <th>9</th>\n",
              "      <td>77.245.233.52</td>\n",
              "      <td>2019-01-22 12:38:27+03:30</td>\n",
              "      <td>GET</td>\n",
              "      <td>/image/848/mainSlide</td>\n",
              "      <td>200</td>\n",
              "      <td>93168</td>\n",
              "      <td>https://www.zanbil.ir/browse/sports/%D8%AA%D8%...</td>\n",
              "      <td>Mozilla/5.0 (Windows NT 6.1; rv:64.0) Gecko/20...</td>\n",
              "    </tr>\n",
              "  </tbody>\n",
              "</table>\n",
              "</div>"
            ],
            "text/plain": [
              "          client  ...                                         user_agent\n",
              "0  37.152.163.59  ...  Mozilla/5.0 (Windows NT 6.1; WOW64; Trident/7....\n",
              "1  37.152.163.59  ...  Mozilla/5.0 (Windows NT 6.1; WOW64; Trident/7....\n",
              "2    85.9.73.119  ...  Mozilla/5.0 (Windows NT 6.1; Win64; x64) Apple...\n",
              "3  37.152.163.59  ...  Mozilla/5.0 (Windows NT 6.1; WOW64; Trident/7....\n",
              "4    85.9.73.119  ...  Mozilla/5.0 (Windows NT 6.1; Win64; x64) Apple...\n",
              "5  37.152.163.59  ...  Mozilla/5.0 (Windows NT 6.1; WOW64; Trident/7....\n",
              "6  77.245.233.52  ...  Mozilla/5.0 (Windows NT 6.1; rv:64.0) Gecko/20...\n",
              "7  37.27.128.139  ...  Mozilla/5.0 (Windows NT 5.1) AppleWebKit/537.3...\n",
              "8  77.245.233.52  ...  Mozilla/5.0 (Windows NT 6.1; rv:64.0) Gecko/20...\n",
              "9  77.245.233.52  ...  Mozilla/5.0 (Windows NT 6.1; rv:64.0) Gecko/20...\n",
              "\n",
              "[10 rows x 8 columns]"
            ]
          },
          "execution_count": 19,
          "metadata": {},
          "output_type": "execute_result"
        }
      ],
      "source": [
        "# Read the optimized parquet file into a dataframe\n",
        "logs_df = pd.read_parquet('logs_df.parquet')\n",
        "\n",
        "print ('DataFrame shape: {}'.format(logs_df.shape))\n",
        "logs_df.head(10)"
      ],
      "id": "adult-rugby"
    },
    {
      "cell_type": "markdown",
      "metadata": {
        "id": "shared-referral"
      },
      "source": [
        "# 2. Exploratory Data Analysis (EDA)\n",
        "\n",
        "What's EDA? **Exploratory Data Analysis (EDA)** is an approach for data analysis that employs a variety of techniques (mostly graphical) to\n",
        "\n",
        "  - Maximize insight into a data set.\n",
        "  - Uncover underlying structure.\n",
        "  - Extract important variables.\n",
        "  - Detect outliers and anomalies.\n",
        "  - Test underlying assumptions.\n",
        "  \n",
        "EDA is a primary task before each data-driven algorithms. Most EDA techniques are **graphical** in nature with a few quantitative techniques. The reason for the heavy reliance on graphics is that by its very nature the main role of EDA is to open-mindedly explore, and graphics gives the analysts unparalleled power to do so, enticing the data to reveal its structural secrets, and being always ready to gain some new, often unsuspected, insight into the data.\n",
        "\n",
        "In this assignment, you will implement some of these methods step by step."
      ],
      "id": "shared-referral"
    },
    {
      "cell_type": "markdown",
      "metadata": {
        "id": "concerned-compound"
      },
      "source": [
        "## Q1. Extract the most visited clients. (10 points)\n",
        "\n",
        "What are the top n'th visited clients? Fill the function below to: \n",
        "\n",
        "   1. Return the top n'th visited IPs as `pandas.DataFrame`\n",
        "   2. Plot them within a **horizontal bar chart**. You can use the matplotlib [documentation](https://matplotlib.org/stable/gallery/lines_bars_and_markers/barh.html)."
      ],
      "id": "concerned-compound"
    },
    {
      "cell_type": "code",
      "execution_count": null,
      "metadata": {
        "colab": {
          "base_uri": "https://localhost:8080/",
          "height": 295
        },
        "id": "quick-officer",
        "outputId": "ad198a56-6be0-4ccf-ab4f-dc05bca7d763"
      },
      "outputs": [
        {
          "data": {
            "image/png": "[encoded data removed]",
            "text/plain": [
              "<Figure size 432x288 with 1 Axes>"
            ]
          },
          "metadata": {
            "needs_background": "light"
          },
          "output_type": "display_data"
        }
      ],
      "source": [
        "def top_clients(df, n=10):\n",
        "    # TODO: Implement this function that takes a pd.DataFrame and n\n",
        "    # as an integer number and returns the top n'th visited IPs(clients).\n",
        "    # Also it must plot a horizontal bar chart with appropriate labels and colors.\n",
        "    # Note that your code must work for all n's as input.\n",
        "    \n",
        "    top_n_visited_clients = pd.DataFrame()\n",
        "    \n",
        "    ############# Your code here ############\n",
        "    temp = df['client'].value_counts()[:n]\n",
        "    top_n_visited_clients = pd.DataFrame({'client':temp.index, 'frequency':temp.values})\n",
        "    # colors = ['#8c564b', '#7f7f7f', '#1f77b4', '#e377c2', '#bcbd22', '#17becf', '#d62728', '#2ca02c', '#ff7f0e', '#9467bd']\n",
        "    colors = plt.cm.magma(np.linspace(0, 1, 10))\n",
        "    plt.barh(top_n_visited_clients.iloc[::-1]['client'], top_n_visited_clients.iloc[::-1]['frequency'], color=colors)\n",
        "    plt.xlabel(\"frequency\")\n",
        "    plt.ylabel(\"client IP\")  \n",
        "    plt.title(\" horizontal bar chart\")\n",
        "    plt.plot(color=colors)\n",
        "    #########################################\n",
        "    \n",
        "    return top_n_visited_clients\n",
        "\n",
        "\n",
        "top_n_visited_clients = top_clients(logs_df, n=10)\n",
        "assert type(top_n_visited_clients) == pd.DataFrame"
      ],
      "id": "quick-officer"
    },
    {
      "cell_type": "code",
      "execution_count": null,
      "metadata": {
        "colab": {
          "base_uri": "https://localhost:8080/",
          "height": 363
        },
        "id": "6OX-7VQ7nKsk",
        "outputId": "ea4d30b1-a496-46d3-91e6-3daac6af699e"
      },
      "outputs": [
        {
          "data": {
            "text/html": [
              "<div>\n",
              "<style scoped>\n",
              "    .dataframe tbody tr th:only-of-type {\n",
              "        vertical-align: middle;\n",
              "    }\n",
              "\n",
              "    .dataframe tbody tr th {\n",
              "        vertical-align: top;\n",
              "    }\n",
              "\n",
              "    .dataframe thead th {\n",
              "        text-align: right;\n",
              "    }\n",
              "</style>\n",
              "<table border=\"1\" class=\"dataframe\">\n",
              "  <thead>\n",
              "    <tr style=\"text-align: right;\">\n",
              "      <th></th>\n",
              "      <th>client</th>\n",
              "      <th>frequency</th>\n",
              "    </tr>\n",
              "  </thead>\n",
              "  <tbody>\n",
              "    <tr>\n",
              "      <th>0</th>\n",
              "      <td>66.249.66.194</td>\n",
              "      <td>353483</td>\n",
              "    </tr>\n",
              "    <tr>\n",
              "      <th>1</th>\n",
              "      <td>66.249.66.91</td>\n",
              "      <td>314522</td>\n",
              "    </tr>\n",
              "    <tr>\n",
              "      <th>2</th>\n",
              "      <td>151.239.241.163</td>\n",
              "      <td>92473</td>\n",
              "    </tr>\n",
              "    <tr>\n",
              "      <th>3</th>\n",
              "      <td>66.249.66.92</td>\n",
              "      <td>88332</td>\n",
              "    </tr>\n",
              "    <tr>\n",
              "      <th>4</th>\n",
              "      <td>91.99.30.32</td>\n",
              "      <td>45973</td>\n",
              "    </tr>\n",
              "    <tr>\n",
              "      <th>5</th>\n",
              "      <td>104.222.32.91</td>\n",
              "      <td>42058</td>\n",
              "    </tr>\n",
              "    <tr>\n",
              "      <th>6</th>\n",
              "      <td>91.99.72.15</td>\n",
              "      <td>38694</td>\n",
              "    </tr>\n",
              "    <tr>\n",
              "      <th>7</th>\n",
              "      <td>91.99.47.57</td>\n",
              "      <td>38609</td>\n",
              "    </tr>\n",
              "    <tr>\n",
              "      <th>8</th>\n",
              "      <td>5.78.190.233</td>\n",
              "      <td>37203</td>\n",
              "    </tr>\n",
              "    <tr>\n",
              "      <th>9</th>\n",
              "      <td>195.181.168.181</td>\n",
              "      <td>27979</td>\n",
              "    </tr>\n",
              "  </tbody>\n",
              "</table>\n",
              "</div>"
            ],
            "text/plain": [
              "            client  frequency\n",
              "0    66.249.66.194     353483\n",
              "1     66.249.66.91     314522\n",
              "2  151.239.241.163      92473\n",
              "3     66.249.66.92      88332\n",
              "4      91.99.30.32      45973\n",
              "5    104.222.32.91      42058\n",
              "6      91.99.72.15      38694\n",
              "7      91.99.47.57      38609\n",
              "8     5.78.190.233      37203\n",
              "9  195.181.168.181      27979"
            ]
          },
          "execution_count": 21,
          "metadata": {},
          "output_type": "execute_result"
        }
      ],
      "source": [
        "top_n_visited_clients"
      ],
      "id": "6OX-7VQ7nKsk"
    },
    {
      "cell_type": "markdown",
      "metadata": {
        "id": "collectible-makeup"
      },
      "source": [
        "## Q2. What are the most frequent endpoints? (10 points)\n",
        "\n",
        "The `request` column in the main DataFrame is indicating the endpoints which clients has requested. Fill the function below to:\n",
        "\n",
        "  1. Return the top n'th frequent endpoints as a `pandas.DataFrame`\n",
        "  2. Plot them within a **Pie chart**. You can use the matplotlib [documentation](https://matplotlib.org/stable/gallery/pie_and_polar_charts/pie_features.html) as well."
      ],
      "id": "collectible-makeup"
    },
    {
      "cell_type": "code",
      "execution_count": null,
      "metadata": {
        "colab": {
          "base_uri": "https://localhost:8080/",
          "height": 427
        },
        "id": "quantitative-local",
        "outputId": "290c4cca-b207-439c-e442-050c35106b27"
      },
      "outputs": [
        {
          "data": {
            "image/png": "[encoded data removed]",
            "text/plain": [
              "<Figure size 720x504 with 1 Axes>"
            ]
          },
          "metadata": {},
          "output_type": "display_data"
        }
      ],
      "source": [
        "def top_endpoints(logs_df, n=5):\n",
        "    # TODO: Implement this function that takes a pd.DataFrame and n\n",
        "    # as an integer number and returns the top n'th frequent endpoints.\n",
        "    # Also it must plot a pie bar chart with appropriate labels and colors.\n",
        "    \n",
        "    # Note that your code must work for all n's as input.\n",
        "    \n",
        "    top_n_freq_endpoints = pd.DataFrame()\n",
        "    \n",
        "    ############# Your code here ############\n",
        "    temp = logs_df['request'].value_counts()[:n]\n",
        "    top_n_freq_endpoints = pd.DataFrame({'request':temp.index, 'frequency':temp.values})\n",
        "    fig = plt.figure(figsize =(10, 7))\n",
        "    plt.pie(top_n_freq_endpoints['frequency'], labels=top_n_freq_endpoints['request'])  \n",
        "    plt.title(\"pie chart\")\n",
        "    #########################################\n",
        "    \n",
        "    return top_n_freq_endpoints\n",
        "\n",
        "\n",
        "top_n_freq_endpoints = top_endpoints(logs_df, n=5)\n",
        "assert type(top_n_freq_endpoints) == pd.DataFrame"
      ],
      "id": "quantitative-local"
    },
    {
      "cell_type": "markdown",
      "metadata": {
        "id": "educational-accuracy"
      },
      "source": [
        "## Q3. More in Endpoints! (10 points)\n",
        "\n",
        "In this question you **must** use **regex** to do some processing on endpoints (`request` column).\n",
        "\n",
        " 1. Remove all the query parameters in the endpoints. e.g. `/image/29314?name=%D8%AF%DB%8C%D8%A8%D8%A7-4.js` must be transformed to `/image/29314.js`\n",
        " \n",
        " 2. Then, what porportion of the endpoints including `/image` in their address, are really images? You can assume that images must only have `jpg`, `png`, `jpeg`, and `webp` extensions."
      ],
      "id": "educational-accuracy"
    },
    {
      "cell_type": "code",
      "execution_count": null,
      "metadata": {
        "id": "reasonable-evaluation"
      },
      "outputs": [],
      "source": [
        "def image_endpoints(logs_df):\n",
        "    # TODO: Implement this function that takes a pd.DataFrame\n",
        "    # and returns the (i) a preprocessed logs_df DataFrame.\n",
        "    # Also (ii) a float number between [0, 1] which indicates the porportion of endpoints including \n",
        "    # /image in their address being image files.\n",
        "\n",
        "    # Note: For the first part have to use python regex and avoid any loops.\n",
        "    \n",
        "    real_img_percentage = 0.0\n",
        "    \n",
        "    ############# Your code here ############\n",
        "    logs_df['request'] = logs_df['request'].apply(lambda x: re.sub('\\?..*$', '.png', x) if re.search('/image..*png', x) else x)\n",
        "    logs_df['request'] = logs_df['request'].apply(lambda x: re.sub('\\?..*$', '.jpg', x) if re.search('/image..*jpg', x) else x)\n",
        "    logs_df['request'] = logs_df['request'].apply(lambda x: re.sub('\\?..*$', '.jpeg', x) if re.search('/image..*jpeg', x) else x)\n",
        "    logs_df['request'] = logs_df['request'].apply(lambda x: re.sub('\\?..*$', '.webp', x) if re.search('/image..*webp', x) else x)\n",
        "    all_img_count = len(logs_df[logs_df['request'].apply(lambda x: True if re.search('/image..*', x) else False)])\n",
        "    real_img_count = len(logs_df[logs_df['request'].apply(lambda x: True if re.search('/image..*jpg', x) or re.search('/image..*jpeg', x) or re.search('/image..*webp', x) or re.search('/image..*png', x) else False)])\n",
        "    real_img_percentage = real_img_count / all_img_count\n",
        "    #########################################\n",
        "    \n",
        "    return logs_df, real_img_percentage\n",
        "\n",
        "preprocessed_df, real_img_percentage = image_endpoints(logs_df)\n",
        "# assert preprocessed_df.shape == logs_df.shape \n",
        "# assert  real_img_percentage <= 1 and real_img_percentage >= 0"
      ],
      "id": "reasonable-evaluation"
    },
    {
      "cell_type": "code",
      "execution_count": null,
      "metadata": {
        "colab": {
          "base_uri": "https://localhost:8080/"
        },
        "id": "kmSwkrxuk171",
        "outputId": "1eeeb860-de67-4015-aa76-a927241ae7e7"
      },
      "outputs": [
        {
          "data": {
            "text/plain": [
              "0.3105515489212801"
            ]
          },
          "execution_count": 24,
          "metadata": {},
          "output_type": "execute_result"
        }
      ],
      "source": [
        "real_img_percentage"
      ],
      "id": "kmSwkrxuk171"
    },
    {
      "cell_type": "code",
      "execution_count": null,
      "metadata": {
        "colab": {
          "base_uri": "https://localhost:8080/",
          "height": 597
        },
        "id": "ePlxBFJ-3I_o",
        "outputId": "8a143b0c-c26f-46bb-c708-71ad11f4fb7d"
      },
      "outputs": [
        {
          "data": {
            "text/html": [
              "<div>\n",
              "<style scoped>\n",
              "    .dataframe tbody tr th:only-of-type {\n",
              "        vertical-align: middle;\n",
              "    }\n",
              "\n",
              "    .dataframe tbody tr th {\n",
              "        vertical-align: top;\n",
              "    }\n",
              "\n",
              "    .dataframe thead th {\n",
              "        text-align: right;\n",
              "    }\n",
              "</style>\n",
              "<table border=\"1\" class=\"dataframe\">\n",
              "  <thead>\n",
              "    <tr style=\"text-align: right;\">\n",
              "      <th></th>\n",
              "      <th>client</th>\n",
              "      <th>datetime</th>\n",
              "      <th>method</th>\n",
              "      <th>request</th>\n",
              "      <th>status</th>\n",
              "      <th>size</th>\n",
              "      <th>referer</th>\n",
              "      <th>user_agent</th>\n",
              "    </tr>\n",
              "  </thead>\n",
              "  <tbody>\n",
              "    <tr>\n",
              "      <th>0</th>\n",
              "      <td>37.152.163.59</td>\n",
              "      <td>2019-01-22 12:38:27+03:30</td>\n",
              "      <td>GET</td>\n",
              "      <td>/image/29314.jpg</td>\n",
              "      <td>200</td>\n",
              "      <td>1105</td>\n",
              "      <td>https://www.zanbil.ir/product/29314/%DA%A9%D8%...</td>\n",
              "      <td>Mozilla/5.0 (Windows NT 6.1; WOW64; Trident/7....</td>\n",
              "    </tr>\n",
              "    <tr>\n",
              "      <th>1</th>\n",
              "      <td>37.152.163.59</td>\n",
              "      <td>2019-01-22 12:38:27+03:30</td>\n",
              "      <td>GET</td>\n",
              "      <td>/static/images/zanbil-kharid.png</td>\n",
              "      <td>200</td>\n",
              "      <td>358</td>\n",
              "      <td>https://www.zanbil.ir/product/29314/%DA%A9%D8%...</td>\n",
              "      <td>Mozilla/5.0 (Windows NT 6.1; WOW64; Trident/7....</td>\n",
              "    </tr>\n",
              "    <tr>\n",
              "      <th>2</th>\n",
              "      <td>85.9.73.119</td>\n",
              "      <td>2019-01-22 12:38:27+03:30</td>\n",
              "      <td>GET</td>\n",
              "      <td>/static/images/next.png</td>\n",
              "      <td>200</td>\n",
              "      <td>3045</td>\n",
              "      <td>https://znbl.ir/static/bundle-bundle_site_head...</td>\n",
              "      <td>Mozilla/5.0 (Windows NT 6.1; Win64; x64) Apple...</td>\n",
              "    </tr>\n",
              "    <tr>\n",
              "      <th>3</th>\n",
              "      <td>37.152.163.59</td>\n",
              "      <td>2019-01-22 12:38:27+03:30</td>\n",
              "      <td>GET</td>\n",
              "      <td>/image/29314.jpg</td>\n",
              "      <td>200</td>\n",
              "      <td>1457</td>\n",
              "      <td>https://www.zanbil.ir/product/29314/%DA%A9%D8%...</td>\n",
              "      <td>Mozilla/5.0 (Windows NT 6.1; WOW64; Trident/7....</td>\n",
              "    </tr>\n",
              "    <tr>\n",
              "      <th>4</th>\n",
              "      <td>85.9.73.119</td>\n",
              "      <td>2019-01-22 12:38:27+03:30</td>\n",
              "      <td>GET</td>\n",
              "      <td>/static/images/checked.png</td>\n",
              "      <td>200</td>\n",
              "      <td>1083</td>\n",
              "      <td>https://znbl.ir/static/bundle-bundle_site_head...</td>\n",
              "      <td>Mozilla/5.0 (Windows NT 6.1; Win64; x64) Apple...</td>\n",
              "    </tr>\n",
              "    <tr>\n",
              "      <th>...</th>\n",
              "      <td>...</td>\n",
              "      <td>...</td>\n",
              "      <td>...</td>\n",
              "      <td>...</td>\n",
              "      <td>...</td>\n",
              "      <td>...</td>\n",
              "      <td>...</td>\n",
              "      <td>...</td>\n",
              "    </tr>\n",
              "    <tr>\n",
              "      <th>10364860</th>\n",
              "      <td>86.104.110.254</td>\n",
              "      <td>2019-01-26 16:01:31+03:30</td>\n",
              "      <td>GET</td>\n",
              "      <td>/settings/logo</td>\n",
              "      <td>200</td>\n",
              "      <td>4120</td>\n",
              "      <td>https://www.zanbil.ir/m/browse/tv/%D8%AA%D9%84...</td>\n",
              "      <td>Mozilla/5.0 (iPhone; CPU iPhone OS 12_1 like M...</td>\n",
              "    </tr>\n",
              "    <tr>\n",
              "      <th>10364861</th>\n",
              "      <td>5.125.254.169</td>\n",
              "      <td>2019-01-26 16:01:31+03:30</td>\n",
              "      <td>GET</td>\n",
              "      <td>/image/5/brand</td>\n",
              "      <td>200</td>\n",
              "      <td>2171</td>\n",
              "      <td>https://www.zanbil.ir/m/filter/p62%2Cstexists</td>\n",
              "      <td>Mozilla/5.0 (iPhone; CPU iPhone OS 12_1_2 like...</td>\n",
              "    </tr>\n",
              "    <tr>\n",
              "      <th>10364862</th>\n",
              "      <td>65.49.68.192</td>\n",
              "      <td>2019-01-26 16:01:31+03:30</td>\n",
              "      <td>GET</td>\n",
              "      <td>/image/64646/productModel/150x150</td>\n",
              "      <td>200</td>\n",
              "      <td>5318</td>\n",
              "      <td>https://www.zanbil.ir/browse/audio-and-video-e...</td>\n",
              "      <td>Mozilla/5.0 (Windows NT 10.0; Win64; x64; rv:6...</td>\n",
              "    </tr>\n",
              "    <tr>\n",
              "      <th>10364863</th>\n",
              "      <td>5.125.254.169</td>\n",
              "      <td>2019-01-26 16:01:31+03:30</td>\n",
              "      <td>GET</td>\n",
              "      <td>/image/1/brand</td>\n",
              "      <td>200</td>\n",
              "      <td>3924</td>\n",
              "      <td>https://www.zanbil.ir/m/filter/p62%2Cstexists</td>\n",
              "      <td>Mozilla/5.0 (iPhone; CPU iPhone OS 12_1_2 like...</td>\n",
              "    </tr>\n",
              "    <tr>\n",
              "      <th>10364864</th>\n",
              "      <td>65.49.68.192</td>\n",
              "      <td>2019-01-26 16:01:31+03:30</td>\n",
              "      <td>GET</td>\n",
              "      <td>/image/56698/productModel/150x150</td>\n",
              "      <td>200</td>\n",
              "      <td>3570</td>\n",
              "      <td>https://www.zanbil.ir/browse/audio-and-video-e...</td>\n",
              "      <td>Mozilla/5.0 (Windows NT 10.0; Win64; x64; rv:6...</td>\n",
              "    </tr>\n",
              "  </tbody>\n",
              "</table>\n",
              "<p>10364865 rows × 8 columns</p>\n",
              "</div>"
            ],
            "text/plain": [
              "                  client  ...                                         user_agent\n",
              "0          37.152.163.59  ...  Mozilla/5.0 (Windows NT 6.1; WOW64; Trident/7....\n",
              "1          37.152.163.59  ...  Mozilla/5.0 (Windows NT 6.1; WOW64; Trident/7....\n",
              "2            85.9.73.119  ...  Mozilla/5.0 (Windows NT 6.1; Win64; x64) Apple...\n",
              "3          37.152.163.59  ...  Mozilla/5.0 (Windows NT 6.1; WOW64; Trident/7....\n",
              "4            85.9.73.119  ...  Mozilla/5.0 (Windows NT 6.1; Win64; x64) Apple...\n",
              "...                  ...  ...                                                ...\n",
              "10364860  86.104.110.254  ...  Mozilla/5.0 (iPhone; CPU iPhone OS 12_1 like M...\n",
              "10364861   5.125.254.169  ...  Mozilla/5.0 (iPhone; CPU iPhone OS 12_1_2 like...\n",
              "10364862    65.49.68.192  ...  Mozilla/5.0 (Windows NT 10.0; Win64; x64; rv:6...\n",
              "10364863   5.125.254.169  ...  Mozilla/5.0 (iPhone; CPU iPhone OS 12_1_2 like...\n",
              "10364864    65.49.68.192  ...  Mozilla/5.0 (Windows NT 10.0; Win64; x64; rv:6...\n",
              "\n",
              "[10364865 rows x 8 columns]"
            ]
          },
          "execution_count": 25,
          "metadata": {},
          "output_type": "execute_result"
        }
      ],
      "source": [
        "preprocessed_df"
      ],
      "id": "ePlxBFJ-3I_o"
    },
    {
      "cell_type": "markdown",
      "metadata": {
        "id": "coastal-virginia"
      },
      "source": [
        "## Q4. What can we infer from the status codes? (15 points)\n",
        "\n",
        "As we know, each request get a response code from the server which has it own meanings. Here is a summary for status code families definition:\n",
        "\n",
        " - **1xx**: An informational response indicates that the request was received and understood.\n",
        " - **2xx**: This class of status codes indicates the action requested by the client was received, understood, and accepted.\n",
        " - **3xx**: This class of status code indicates the client must take additional action to complete the request. Many of these status codes are used in URL redirection.\n",
        " - **4xx**: This class of status code is intended for situations in which the error seems to have been caused by the client\n",
        " - **5xx**: The server failed to fulfil a request.\n",
        " \n",
        " Read more about individual status codes [here](https://en.wikipedia.org/wiki/List_of_HTTP_status_codes).\n",
        " \n",
        " \n",
        "In this part, we want the **distribution** of each status codes has occured in the log file. Additionally we  want to notice that on which **hours** during a day the server may response to the client using error messages.\n",
        "\n",
        "**Note**: In this question you may need to use `pandas.to_datetime`."
      ],
      "id": "coastal-virginia"
    },
    {
      "cell_type": "code",
      "execution_count": null,
      "metadata": {
        "colab": {
          "base_uri": "https://localhost:8080/",
          "height": 1000
        },
        "id": "discrete-affiliation",
        "outputId": "58deeee3-eca9-4be8-ff05-d73d3bda3202"
      },
      "outputs": [
        {
          "data": {
            "image/png": "[encoded data removed]",
            "text/plain": [
              "<Figure size 800x1600 with 1 Axes>"
            ]
          },
          "metadata": {},
          "output_type": "display_data"
        }
      ],
      "source": [
        "def status_codes_ditribution(logs_df):\n",
        "    # TODO: Implement this function that takes a pd.DataFrame\n",
        "    # and (i) return a python list of unique values of the status codes\n",
        "    # and (ii) plot a vertical bar chart of status codes frequencies.\n",
        "    \n",
        "    status_codes_list = None\n",
        "    \n",
        "    ############# Your code here ############\n",
        "    status_codes_list = logs_df.status.unique()\n",
        "    temp = logs_df['status'].value_counts()\n",
        "    top_n_freq_status = pd.DataFrame({'status':temp.index, 'frequency':temp.values})\n",
        "    colors = ['#ff7f0e', '#9467bd', '#1f77b4', '#e377c2', '#8c564b', '#7f7f7f', '#bcbd22', '#17becf', '#d62728', '#2ca02c']\n",
        "    plt.figure(figsize=(10,20), dpi=80, facecolor='w', edgecolor='r')\n",
        "    plt.bar(top_n_freq_status['status'], top_n_freq_status['frequency'], color=colors)\n",
        "    plt.xlabel(\"status\")\n",
        "    plt.ylabel(\"frequency\")  \n",
        "    plt.title(\" vertical bar chart\")\n",
        "    plt.plot(color=colors, figsize=(200,100))\n",
        "    #########################################\n",
        "    \n",
        "    return status_codes_list\n",
        "\n",
        "status_codes_list = status_codes_ditribution(logs_df)"
      ],
      "id": "discrete-affiliation"
    },
    {
      "cell_type": "code",
      "execution_count": null,
      "metadata": {
        "colab": {
          "base_uri": "https://localhost:8080/"
        },
        "id": "0vMF3xmVjqvN",
        "outputId": "d3863d0b-a7a8-4ff7-a75f-75c39506a588"
      },
      "outputs": [
        {
          "data": {
            "text/plain": [
              "array([200, 404, 301, 499, 302, 304, 500, 403, 502, 401, 408, 504, 400,\n",
              "       405, 206], dtype=int16)"
            ]
          },
          "execution_count": 27,
          "metadata": {},
          "output_type": "execute_result"
        }
      ],
      "source": [
        "status_codes_list"
      ],
      "id": "0vMF3xmVjqvN"
    },
    {
      "cell_type": "markdown",
      "metadata": {
        "id": "polish-toddler"
      },
      "source": [
        "We want to create a DataFrame containing the total number of **4xx** and **5xx** responses for requests for each hour of the day. You must create a **2-column** DataFrame for each 4xx and 5xx families. This DataFrame must include **24 rows** which are corresponded to hours of a day.\n",
        "\n",
        "The structure of desired DataFrame is as followes:\n",
        "\n",
        "| hour | 4xx | 5xx | \n",
        "| --- | --- | --- |\n",
        "| 0 | ... | ... |\n",
        "| 1 | ... | ... |\n",
        "| 2 | ... | ... |\n",
        "| ... | ... | ... |\n",
        "| 21 | ... | ... |\n",
        "| 22 | ... | ... |\n",
        "| 23| ... | ... |\n"
      ],
      "id": "polish-toddler"
    },
    {
      "cell_type": "code",
      "execution_count": null,
      "metadata": {
        "colab": {
          "base_uri": "https://localhost:8080/"
        },
        "id": "sharing-spending",
        "outputId": "c977fea2-6828-4ebc-8197-d7f4be2a4a45"
      },
      "outputs": [
        {
          "name": "stderr",
          "output_type": "stream",
          "text": [
            "/usr/local/lib/python3.7/dist-packages/ipykernel_launcher.py:12: SettingWithCopyWarning: \n",
            "A value is trying to be set on a copy of a slice from a DataFrame.\n",
            "Try using .loc[row_indexer,col_indexer] = value instead\n",
            "\n",
            "See the caveats in the documentation: https://pandas.pydata.org/pandas-docs/stable/user_guide/indexing.html#returning-a-view-versus-a-copy\n",
            "  if sys.path[0] == '':\n",
            "/usr/local/lib/python3.7/dist-packages/ipykernel_launcher.py:13: SettingWithCopyWarning: \n",
            "A value is trying to be set on a copy of a slice from a DataFrame.\n",
            "Try using .loc[row_indexer,col_indexer] = value instead\n",
            "\n",
            "See the caveats in the documentation: https://pandas.pydata.org/pandas-docs/stable/user_guide/indexing.html#returning-a-view-versus-a-copy\n",
            "  del sys.path[0]\n",
            "/usr/local/lib/python3.7/dist-packages/ipykernel_launcher.py:14: SettingWithCopyWarning: \n",
            "A value is trying to be set on a copy of a slice from a DataFrame.\n",
            "Try using .loc[row_indexer,col_indexer] = value instead\n",
            "\n",
            "See the caveats in the documentation: https://pandas.pydata.org/pandas-docs/stable/user_guide/indexing.html#returning-a-view-versus-a-copy\n",
            "  \n"
          ]
        }
      ],
      "source": [
        "def hourly_errors(logs_df):\n",
        "    # TODO: Implement this function that takes a pd.DataFrame\n",
        "    # and returns a 8x2 DataFrame described above (Duration is index)\n",
        "    \n",
        "    # Note: Remember that in this assignment(even in your Data-Science life!) you are not\n",
        "    # allowed to use loops iterating over a DataFrame.\n",
        "    \n",
        "    errors_freq_df = pd.DataFrame()\n",
        "    \n",
        "    ############# Your code here ############\n",
        "    temp2 = logs_df[logs_df['status'].apply(lambda x: True if x<600 and x>=400 else False)]\n",
        "    temp2['status'] = temp2['status'].apply(lambda x: 400 if x<500 else 500)\n",
        "    temp2['datetime'] = temp2['datetime'].dt.floor('H')\n",
        "    temp2['hour'] = temp2['datetime'].dt.hour\n",
        "    df_solution = temp2.pivot_table(index=['hour', 'status'], aggfunc='count')\n",
        "    medals = df_solution.pivot_table('size', ['hour'], 'status')\n",
        "    errors_freq_df = pd.DataFrame(medals.to_records())\n",
        "    errors_freq_df.columns = ['hour', '4xx', '5xx']\n",
        "    errors_freq_df = errors_freq_df[['4xx', '5xx']]\n",
        "    #########################################\n",
        "    \n",
        "    return errors_freq_df\n",
        "errors_freq_df = hourly_errors(logs_df)\n",
        "assert errors_freq_df.shape == (24, 2)"
      ],
      "id": "sharing-spending"
    },
    {
      "cell_type": "markdown",
      "metadata": {
        "id": "cooperative-matrix"
      },
      "source": [
        "## Q5. How can user agents help us to recognize bots readily? (10 points)\n",
        "\n",
        "What is user agent? Please read [this](https://en.wikipedia.org/wiki/User_agent) in case you don't know!\n",
        "\n",
        "There is a useful library called `user_agents`. It is a Python library that provides an easy way to identify/detect devices like mobile phones, tablets and their capabilities by parsing (browser/HTTP) user agent strings."
      ],
      "id": "cooperative-matrix"
    },
    {
      "cell_type": "code",
      "execution_count": null,
      "metadata": {
        "colab": {
          "base_uri": "https://localhost:8080/"
        },
        "id": "maritime-channel",
        "outputId": "e3fb66c9-e4fa-48b2-cb7d-224fe39158ca"
      },
      "outputs": [
        {
          "name": "stdout",
          "output_type": "stream",
          "text": [
            "Requirement already satisfied: pyyaml in /usr/local/lib/python3.7/dist-packages (3.13)\n",
            "Collecting ua-parser\n",
            "  Downloading ua_parser-0.10.0-py2.py3-none-any.whl (35 kB)\n",
            "Collecting user-agents\n",
            "  Downloading user_agents-2.2.0-py3-none-any.whl (9.6 kB)\n",
            "Installing collected packages: ua-parser, user-agents\n",
            "Successfully installed ua-parser-0.10.0 user-agents-2.2.0\n"
          ]
        }
      ],
      "source": [
        "# Firstly, lets install it:\n",
        "%pip install pyyaml ua-parser user-agents"
      ],
      "id": "maritime-channel"
    },
    {
      "cell_type": "markdown",
      "metadata": {
        "id": "funded-alexandria"
      },
      "source": [
        "Please visit it's [documentation](https://pypi.org/project/user-agents/) page.\n",
        "\n",
        "In this part, we will create a DataFrame which has these columns **per each session** (we assume that each rows with same IPs and user agents are within a same session). You have to group the `logs_df` DataFrame by their `client` and `user_agent` columns.\n",
        "\n",
        "This DataFrame columns are listed below:\n",
        "\n",
        " - Browser family: *string*\n",
        " - OS family: *is string*\n",
        " - Is_bot: *boolean* \n",
        " - Is_pc: *boolean* \n"
      ],
      "id": "funded-alexandria"
    },
    {
      "cell_type": "code",
      "execution_count": null,
      "metadata": {
        "colab": {
          "base_uri": "https://localhost:8080/"
        },
        "id": "widespread-package",
        "outputId": "69631625-b6c7-4058-f155-e69781b4e1df"
      },
      "outputs": [
        {
          "name": "stderr",
          "output_type": "stream",
          "text": [
            "/usr/local/lib/python3.7/dist-packages/ipykernel_launcher.py:13: SettingWithCopyWarning: \n",
            "A value is trying to be set on a copy of a slice from a DataFrame.\n",
            "Try using .loc[row_indexer,col_indexer] = value instead\n",
            "\n",
            "See the caveats in the documentation: https://pandas.pydata.org/pandas-docs/stable/user_guide/indexing.html#returning-a-view-versus-a-copy\n",
            "  del sys.path[0]\n",
            "/usr/local/lib/python3.7/dist-packages/ipykernel_launcher.py:14: SettingWithCopyWarning: \n",
            "A value is trying to be set on a copy of a slice from a DataFrame.\n",
            "Try using .loc[row_indexer,col_indexer] = value instead\n",
            "\n",
            "See the caveats in the documentation: https://pandas.pydata.org/pandas-docs/stable/user_guide/indexing.html#returning-a-view-versus-a-copy\n",
            "  \n",
            "/usr/local/lib/python3.7/dist-packages/ipykernel_launcher.py:15: SettingWithCopyWarning: \n",
            "A value is trying to be set on a copy of a slice from a DataFrame.\n",
            "Try using .loc[row_indexer,col_indexer] = value instead\n",
            "\n",
            "See the caveats in the documentation: https://pandas.pydata.org/pandas-docs/stable/user_guide/indexing.html#returning-a-view-versus-a-copy\n",
            "  from ipykernel import kernelapp as app\n",
            "/usr/local/lib/python3.7/dist-packages/ipykernel_launcher.py:16: SettingWithCopyWarning: \n",
            "A value is trying to be set on a copy of a slice from a DataFrame.\n",
            "Try using .loc[row_indexer,col_indexer] = value instead\n",
            "\n",
            "See the caveats in the documentation: https://pandas.pydata.org/pandas-docs/stable/user_guide/indexing.html#returning-a-view-versus-a-copy\n",
            "  app.launch_new_instance()\n"
          ]
        }
      ],
      "source": [
        "from user_agents import parse \n",
        "\n",
        "def user_agent_details(logs_df):\n",
        "    # TODO: Implement this function that takes a pd.DataFrame\n",
        "    # and return a # of sessions x 4 DataFrame. \n",
        "    \n",
        "    # Note: you must bind the user_agent functions to your DataFrame rows, hence you cannot use loops.\n",
        "    \n",
        "    user_agent_details_df = pd.DataFrame()\n",
        "    \n",
        "    ############# Your code here ############\n",
        "    sessions = logs_df[logs_df.duplicated(subset=['client','user_agent'], keep=False)]\n",
        "    sessions['Browser_family'] = sessions['user_agent'].apply(lambda x: parse(x).browser.family)\n",
        "    sessions['OS_family'] = sessions['user_agent'].apply(lambda x: parse(x).os.family)\n",
        "    sessions['Is_bot'] = sessions['user_agent'].apply(lambda x: parse(x).is_bot)\n",
        "    sessions['Is_pc'] = sessions['user_agent'].apply(lambda x: parse(x).is_pc)\n",
        "    user_agent_details_df = sessions[['Browser_family', 'OS_family', 'Is_bot', 'Is_pc']]\n",
        "    user_agent_details_df.reindex\n",
        "    #########################################\n",
        "    \n",
        "    return user_agent_details_df\n",
        "\n",
        "user_agent_details_df = user_agent_details(logs_df)"
      ],
      "id": "widespread-package"
    },
    {
      "cell_type": "code",
      "execution_count": null,
      "metadata": {
        "colab": {
          "base_uri": "https://localhost:8080/",
          "height": 423
        },
        "id": "NhU49UJVfVbj",
        "outputId": "7882e703-d014-4e75-fde6-7af4e1d6ca52"
      },
      "outputs": [
        {
          "data": {
            "text/html": [
              "<div>\n",
              "<style scoped>\n",
              "    .dataframe tbody tr th:only-of-type {\n",
              "        vertical-align: middle;\n",
              "    }\n",
              "\n",
              "    .dataframe tbody tr th {\n",
              "        vertical-align: top;\n",
              "    }\n",
              "\n",
              "    .dataframe thead th {\n",
              "        text-align: right;\n",
              "    }\n",
              "</style>\n",
              "<table border=\"1\" class=\"dataframe\">\n",
              "  <thead>\n",
              "    <tr style=\"text-align: right;\">\n",
              "      <th></th>\n",
              "      <th>Browser_family</th>\n",
              "      <th>OS_family</th>\n",
              "      <th>Is_bot</th>\n",
              "      <th>Is_pc</th>\n",
              "    </tr>\n",
              "  </thead>\n",
              "  <tbody>\n",
              "    <tr>\n",
              "      <th>0</th>\n",
              "      <td>IE</td>\n",
              "      <td>Windows</td>\n",
              "      <td>False</td>\n",
              "      <td>True</td>\n",
              "    </tr>\n",
              "    <tr>\n",
              "      <th>1</th>\n",
              "      <td>IE</td>\n",
              "      <td>Windows</td>\n",
              "      <td>False</td>\n",
              "      <td>True</td>\n",
              "    </tr>\n",
              "    <tr>\n",
              "      <th>2</th>\n",
              "      <td>Chrome</td>\n",
              "      <td>Windows</td>\n",
              "      <td>False</td>\n",
              "      <td>True</td>\n",
              "    </tr>\n",
              "    <tr>\n",
              "      <th>3</th>\n",
              "      <td>IE</td>\n",
              "      <td>Windows</td>\n",
              "      <td>False</td>\n",
              "      <td>True</td>\n",
              "    </tr>\n",
              "    <tr>\n",
              "      <th>4</th>\n",
              "      <td>Chrome</td>\n",
              "      <td>Windows</td>\n",
              "      <td>False</td>\n",
              "      <td>True</td>\n",
              "    </tr>\n",
              "    <tr>\n",
              "      <th>...</th>\n",
              "      <td>...</td>\n",
              "      <td>...</td>\n",
              "      <td>...</td>\n",
              "      <td>...</td>\n",
              "    </tr>\n",
              "    <tr>\n",
              "      <th>10364860</th>\n",
              "      <td>Mobile Safari</td>\n",
              "      <td>iOS</td>\n",
              "      <td>False</td>\n",
              "      <td>False</td>\n",
              "    </tr>\n",
              "    <tr>\n",
              "      <th>10364861</th>\n",
              "      <td>Mobile Safari</td>\n",
              "      <td>iOS</td>\n",
              "      <td>False</td>\n",
              "      <td>False</td>\n",
              "    </tr>\n",
              "    <tr>\n",
              "      <th>10364862</th>\n",
              "      <td>Firefox</td>\n",
              "      <td>Windows</td>\n",
              "      <td>False</td>\n",
              "      <td>True</td>\n",
              "    </tr>\n",
              "    <tr>\n",
              "      <th>10364863</th>\n",
              "      <td>Mobile Safari</td>\n",
              "      <td>iOS</td>\n",
              "      <td>False</td>\n",
              "      <td>False</td>\n",
              "    </tr>\n",
              "    <tr>\n",
              "      <th>10364864</th>\n",
              "      <td>Firefox</td>\n",
              "      <td>Windows</td>\n",
              "      <td>False</td>\n",
              "      <td>True</td>\n",
              "    </tr>\n",
              "  </tbody>\n",
              "</table>\n",
              "<p>10252106 rows × 4 columns</p>\n",
              "</div>"
            ],
            "text/plain": [
              "         Browser_family OS_family Is_bot  Is_pc\n",
              "0                    IE   Windows  False   True\n",
              "1                    IE   Windows  False   True\n",
              "2                Chrome   Windows  False   True\n",
              "3                    IE   Windows  False   True\n",
              "4                Chrome   Windows  False   True\n",
              "...                 ...       ...    ...    ...\n",
              "10364860  Mobile Safari       iOS  False  False\n",
              "10364861  Mobile Safari       iOS  False  False\n",
              "10364862        Firefox   Windows  False   True\n",
              "10364863  Mobile Safari       iOS  False  False\n",
              "10364864        Firefox   Windows  False   True\n",
              "\n",
              "[10252106 rows x 4 columns]"
            ]
          },
          "execution_count": 31,
          "metadata": {},
          "output_type": "execute_result"
        }
      ],
      "source": [
        "user_agent_details_df"
      ],
      "id": "NhU49UJVfVbj"
    },
    {
      "cell_type": "markdown",
      "metadata": {
        "id": "worldwide-removal"
      },
      "source": [
        "## Q6. Take a deeper look! (10 points)\n",
        "\n",
        "Extract all the rows of the table with:\n",
        "\n",
        "    - client = '66.249.66.194'\n",
        "    - user_agent = 'Mozilla/5.0 (compatible; Googlebot/2.1; +http://www.google.com/bot.html)'\n",
        "    \n",
        "Then answer the following questions:\n",
        "\n",
        "   1. What percentage of the requests of these rows have `size = 0`?\n",
        "   2. Take a look at the endpoints of the requests having `size = 0`. What substring do they have in common mostly?\n",
        "   \n",
        "Then fill the function below to plot a histogram for sizes of the requests."
      ],
      "id": "worldwide-removal"
    },
    {
      "cell_type": "code",
      "execution_count": null,
      "metadata": {
        "colab": {
          "base_uri": "https://localhost:8080/",
          "height": 281
        },
        "id": "pediatric-elimination",
        "outputId": "ee808b82-3592-4f62-b65f-d51e994c9ba6"
      },
      "outputs": [
        {
          "data": {
            "image/png": "[encoded data removed]",
            "text/plain": [
              "<Figure size 432x288 with 1 Axes>"
            ]
          },
          "metadata": {
            "needs_background": "light"
          },
          "output_type": "display_data"
        }
      ],
      "source": [
        "client = '66.249.66.194'\n",
        "user_agent = 'Mozilla/5.0 (compatible; Googlebot/2.1; +http://www.google.com/bot.html)'\n",
        "\n",
        "def plot_histogram(sample_df, n_bins=10):\n",
        "    # TODO: Implement this function that takes a pd.DataFrame\n",
        "    # and plot a histogram with n_bins bins.\n",
        "    \n",
        "    ############# Your code here ############\n",
        "    temp = pd.DataFrame()\n",
        "    temp['size'] = sample_df['size'].value_counts()\n",
        "    temp.hist(bins=n_bins)\n",
        "    #########################################\n",
        "    \n",
        "sample_df = logs_df[(logs_df['client'] == client) & (logs_df['user_agent'] == user_agent)]  \n",
        "plot_histogram(sample_df, n_bins=10)"
      ],
      "id": "pediatric-elimination"
    },
    {
      "cell_type": "markdown",
      "metadata": {
        "id": "imported-radar"
      },
      "source": [
        "# 3. Feature Engineering\n",
        "\n",
        "We now have some insights of the dataset. In this part we are going to create some new features to help us better classifying **web crawlers/bots** and normal clients.\n",
        "\n",
        "In over the last decade, there have been numerous studies that have tried to classify web robots from web server access logs using Machine Learning approaches. But is it really possible to classify each requests individually? Nowdays, attackers and web crawler developers, implement bots which act broadly similar to humans! Therefore, it is not practical to classify the requests into crawlers and normal clients just based on one request. Here sessions just come in!\n",
        "\n",
        "**Session definition**: A session is a group of user interactions(requests) with your website that take place within a given time frame. For simplicity, we assume that each session only corresponds to one client(IP) and we also ignore the time frame. \n",
        "\n",
        "Hence you can create the session DataFrame with grouping the logs DataFrame by `client` and `user_agent` columns."
      ],
      "id": "imported-radar"
    },
    {
      "cell_type": "markdown",
      "metadata": {
        "id": "faced-willow"
      },
      "source": [
        "## Q7. Write 10 features of web crawlers' access logs within a session which deviate them from normal client ones? Explain the intuition behind each one briefly? (5 points)\n",
        "\n",
        "You are free to search on the internet and read previous studies in this area but **you must mention your sources in your report**. \n",
        "\n",
        "This paper can be helpful: *Detecting Web Crawlers from Web Server Access Logs with Data Mining*. [[PDF]](https://www.eecs.yorku.ca/course_archive/2019-20/F/6412/project/samples/Dusan-report.pdf)"
      ],
      "id": "faced-willow"
    },
    {
      "cell_type": "markdown",
      "metadata": {
        "id": "alive-zimbabwe"
      },
      "source": [
        "## Q8. Create the session DataFrame (10 points)\n",
        "\n",
        "Fill the function below to create the session DataFrame based on grouping the `logs_df` by `client` and `user_agent` columns. This DataFrame must contain one column which indicates the number of requests for each session named `requests_count`. Also **sort** the final DataFrame based on `requests_count` in **descending** order.\n",
        "\n",
        "\n",
        "What can we imply from the user agents of the sessions with most request frequency? Are they normal clients? Write your thoughts in the report file."
      ],
      "id": "alive-zimbabwe"
    },
    {
      "cell_type": "code",
      "execution_count": null,
      "metadata": {
        "id": "reliable-shopping"
      },
      "outputs": [],
      "source": [
        "# change the data type of the client, user_agent, referer columns.\n",
        "# It may take 1-2 minutes to execute.\n",
        "logs_df = logs_df.sample(frac=0.6, replace=True, random_state=1)\n",
        "# logs_df['client'] = logs_df['client'].astype(str)\n",
        "# logs_df['user_agent'] = logs_df['user_agent'].astype(str)\n",
        "# I cast them manually whenever necessary :)"
      ],
      "id": "reliable-shopping"
    },
    {
      "cell_type": "code",
      "execution_count": null,
      "metadata": {
        "id": "injured-saver"
      },
      "outputs": [],
      "source": [
        "def create_session_df(logs_df):\n",
        "    # TODO: Implement this function that takes a pd.DataFrame\n",
        "    # and return the session DataFrame\n",
        "    \n",
        "    session_df = pd.DataFrame()\n",
        "    \n",
        "    ############# Your code here ############\n",
        "    session_df = pd.DataFrame(logs_df.groupby(['client', 'user_agent'], observed=True).size(), columns=['requests_count'])\n",
        "    #########################################\n",
        "    \n",
        "    return session_df.sort_values('requests_count', ascending=False)\n",
        "\n",
        "session_df = create_session_df(logs_df)\n",
        "# assert session_df.shape == (295087, 1)"
      ],
      "id": "injured-saver"
    },
    {
      "cell_type": "markdown",
      "metadata": {
        "id": "satellite-murder"
      },
      "source": [
        "## Q9. Design other useful features per session (20 points)\n",
        "\n",
        "In this part you will add more feature to your session DataFrame. Your final session DataFrame must include these features:\n",
        "\n",
        " 1. **requests_count**: Number of HTTP request per session (You implemented this one in the previous question.\n",
        ")\n",
        " 2. **STD of endpoint lengths**: Each endpoint has a length if we split the parts of it by \"/\" delimiter. Computer the STD of endpoint lenght per session.\n",
        " 3. **Percentage of 4xx status codes**: Its clear!\n",
        " 4. **Percentage of HTTP HEAD requests**: HEAD is one of the HTTP methods similar to GET, POST, PUT and Delete.\n",
        " 5. **Average of the `size` column**: What insights does it give us? What do YOU think?\n",
        " 6. **Robots.txt requests**: Indicates a web crawler attempt to access web pages.\n",
        " 7. **Average of time between requests per session**: Set 0 for session containing only 1 request.\n",
        " 8. **Percentage of requests with unassigned referrers**: Percentage of blank or unassigned referrer fields set by a user in a single session."
      ],
      "id": "satellite-murder"
    },
    {
      "cell_type": "code",
      "execution_count": null,
      "metadata": {
        "id": "tested-disney"
      },
      "outputs": [],
      "source": [
        "def generate_features(session_df, logs_df):\n",
        "    # TODO: Implement this function that takes two pd.DataFrame\n",
        "    # and return the session DataFrame with 6 features\n",
        "    \n",
        "    \n",
        "    ############# Your code here ############\n",
        "    logs_df['endpoint_len'] = logs_df['request'].apply(lambda x: len(x.split('/')))\n",
        "    session_df['STD_endpoint_len'] = logs_df[['client', 'user_agent', 'endpoint_len']] \\\n",
        "                                           .groupby(['client', 'user_agent'], observed=True).agg(np.std, ddof=0)\n",
        "\n",
        "    logs_df['status_4xx'] = logs_df['status'].apply(lambda x: 1 if x>=400 and x<500 else 0)\n",
        "    session_df['4xx_count'] = pd.DataFrame(logs_df[['client', 'user_agent', 'status_4xx']] \\\n",
        "                                           .groupby(['client', 'user_agent'], observed=True).sum())\n",
        "    session_df['percentage_4xx_status'] = session_df['4xx_count'] / session_df['requests_count']\n",
        "\n",
        "    logs_df['http_head'] = logs_df['method'].apply(lambda x: 1 if str(x)=='HEAD' else 0)\n",
        "    session_df['head_count'] = pd.DataFrame(logs_df[['client', 'user_agent', 'http_head']] \\\n",
        "                                            .groupby(['client', 'user_agent'], observed=True).sum())\n",
        "    session_df['percentage_head_request'] = session_df['head_count'] / session_df['requests_count']\n",
        "\n",
        "    session_df['average_size'] = pd.DataFrame(logs_df[['client', 'user_agent', 'size']] \\\n",
        "                                              .groupby(['client', 'user_agent'], observed=True).mean())\n",
        "\n",
        "    logs_df['Robot.txt'] = logs_df['request'].apply(lambda x: 1 if re.search('robots.txt', x.lower()) else 0)\n",
        "    session_df['Robot.txt'] = pd.DataFrame(logs_df[['client', 'user_agent', 'Robot.txt']] \\\n",
        "                                           .groupby(['client', 'user_agent'], observed=True).sum())\n",
        "    session_df['Robot.txt'] = session_df['Robot.txt'].apply(lambda x: 1 if x>0 else 0)\n",
        "\n",
        "    session_df['average_time_between'] = logs_df[['client', 'user_agent', 'datetime']] \\\n",
        "                                           .groupby(['client', 'user_agent'], observed=True).datetime \\\n",
        "                                           .agg(avg_time_diff = lambda group: group.sort_values().diff().mean())\n",
        "    session_df['average_time_between'] = session_df['average_time_between'] \\\n",
        "                                          .apply(lambda x: 0 if str(x) == 'NaT' else x)\n",
        "\n",
        "    logs_df['unassigned_referer'] = logs_df['referer'].apply(lambda x: 1 if x is '-' else 0)\n",
        "    session_df['unassigned_referer_count'] = pd.DataFrame(logs_df[['client', 'user_agent', 'unassigned_referer']] \\\n",
        "                                                          .groupby(['client', 'user_agent'], observed=True).sum())\n",
        "    session_df['percentage_unassigned_referer'] = session_df['unassigned_referer_count'] / session_df['requests_count']\n",
        "\n",
        "    session_df = session_df.drop(['4xx_count', 'head_count', 'unassigned_referer_count'], axis=1)\n",
        "    #########################################\n",
        "    \n",
        "    return session_df\n",
        "\n",
        "session_df = generate_features(session_df, logs_df)\n",
        "# assert session_df.shape == (128537, 8)"
      ],
      "id": "tested-disney"
    },
    {
      "cell_type": "markdown",
      "metadata": {
        "id": "nasty-broad"
      },
      "source": [
        "Sort the final session DataFrame in both ascending/descending based on each column. What can you imply from the results? Examine the top/least sessions' requests and its user agent, Can we conclude that are suspicious enough as crawlers? \n",
        "\n",
        "**Help**: After sorting the DataFrame, check out the user agents of the sessions, they may include *bot* in them. Also you can observe the requests which suspicious have sent within its session. Check the time stamps of the requests? Have been the requests sent immediately after one each?\n",
        "\n",
        "**Important Note**: To answer this question, you don't have to show all your DataFrames and results after sorting them here. Just play around the session DataFrame you have created and write your implications from what you see.\n",
        "\n",
        "But before analyzing your results, run the cell below to drop all the session with less than 10 requests."
      ],
      "id": "nasty-broad"
    },
    {
      "cell_type": "code",
      "execution_count": null,
      "metadata": {
        "colab": {
          "base_uri": "https://localhost:8080/",
          "height": 1000
        },
        "id": "sound-rating",
        "outputId": "b160ccf5-c4fa-44d5-833c-43b29c9936d1"
      },
      "outputs": [
        {
          "data": {
            "text/html": [
              "<div>\n",
              "<style scoped>\n",
              "    .dataframe tbody tr th:only-of-type {\n",
              "        vertical-align: middle;\n",
              "    }\n",
              "\n",
              "    .dataframe tbody tr th {\n",
              "        vertical-align: top;\n",
              "    }\n",
              "\n",
              "    .dataframe thead th {\n",
              "        text-align: right;\n",
              "    }\n",
              "</style>\n",
              "<table border=\"1\" class=\"dataframe\">\n",
              "  <thead>\n",
              "    <tr style=\"text-align: right;\">\n",
              "      <th></th>\n",
              "      <th></th>\n",
              "      <th>requests_count</th>\n",
              "      <th>STD_endpoint_len</th>\n",
              "      <th>percentage_4xx_status</th>\n",
              "      <th>percentage_head_request</th>\n",
              "      <th>average_size</th>\n",
              "      <th>Robot.txt</th>\n",
              "      <th>average_time_between</th>\n",
              "      <th>percentage_unassigned_referer</th>\n",
              "    </tr>\n",
              "    <tr>\n",
              "      <th>client</th>\n",
              "      <th>user_agent</th>\n",
              "      <th></th>\n",
              "      <th></th>\n",
              "      <th></th>\n",
              "      <th></th>\n",
              "      <th></th>\n",
              "      <th></th>\n",
              "      <th></th>\n",
              "      <th></th>\n",
              "    </tr>\n",
              "  </thead>\n",
              "  <tbody>\n",
              "    <tr>\n",
              "      <th>66.249.66.194</th>\n",
              "      <th>Mozilla/5.0 (Linux; Android 6.0.1; Nexus 5X Build/MMB29P) AppleWebKit/537.36 (KHTML, like Gecko) Chrome/41.0.2272.96 Mobile Safari/537.36 (compatible; Googlebot/2.1; +http://www.google.com/bot.html)</th>\n",
              "      <td>155139</td>\n",
              "      <td>0.591475</td>\n",
              "      <td>0.014748</td>\n",
              "      <td>0.0</td>\n",
              "      <td>19955.741973</td>\n",
              "      <td>0</td>\n",
              "      <td>0 days 00:00:02.611636091</td>\n",
              "      <td>0.999098</td>\n",
              "    </tr>\n",
              "    <tr>\n",
              "      <th rowspan=\"2\" valign=\"top\">66.249.66.91</th>\n",
              "      <th>Mozilla/5.0 (Linux; Android 6.0.1; Nexus 5X Build/MMB29P) AppleWebKit/537.36 (KHTML, like Gecko) Chrome/41.0.2272.96 Mobile Safari/537.36 (compatible; Googlebot/2.1; +http://www.google.com/bot.html)</th>\n",
              "      <td>75600</td>\n",
              "      <td>0.227304</td>\n",
              "      <td>0.000159</td>\n",
              "      <td>0.0</td>\n",
              "      <td>2498.271190</td>\n",
              "      <td>0</td>\n",
              "      <td>0 days 00:00:05.341896056</td>\n",
              "      <td>0.970979</td>\n",
              "    </tr>\n",
              "    <tr>\n",
              "      <th>Googlebot-Image/1.0</th>\n",
              "      <td>65272</td>\n",
              "      <td>0.506843</td>\n",
              "      <td>0.000000</td>\n",
              "      <td>0.0</td>\n",
              "      <td>3392.344865</td>\n",
              "      <td>0</td>\n",
              "      <td>0 days 00:00:06.206600174</td>\n",
              "      <td>1.000000</td>\n",
              "    </tr>\n",
              "    <tr>\n",
              "      <th>66.249.66.194</th>\n",
              "      <th>Mozilla/5.0 (compatible; Googlebot/2.1; +http://www.google.com/bot.html)</th>\n",
              "      <td>53339</td>\n",
              "      <td>0.814362</td>\n",
              "      <td>0.079435</td>\n",
              "      <td>0.0</td>\n",
              "      <td>24904.015055</td>\n",
              "      <td>1</td>\n",
              "      <td>0 days 00:00:07.596254077</td>\n",
              "      <td>1.000000</td>\n",
              "    </tr>\n",
              "    <tr>\n",
              "      <th>66.249.66.91</th>\n",
              "      <th>Mozilla/5.0 (compatible; Googlebot/2.1; +http://www.google.com/bot.html)</th>\n",
              "      <td>47535</td>\n",
              "      <td>0.444961</td>\n",
              "      <td>0.000968</td>\n",
              "      <td>0.0</td>\n",
              "      <td>39104.241885</td>\n",
              "      <td>1</td>\n",
              "      <td>0 days 00:00:08.523625194</td>\n",
              "      <td>1.000000</td>\n",
              "    </tr>\n",
              "    <tr>\n",
              "      <th>...</th>\n",
              "      <th>...</th>\n",
              "      <td>...</td>\n",
              "      <td>...</td>\n",
              "      <td>...</td>\n",
              "      <td>...</td>\n",
              "      <td>...</td>\n",
              "      <td>...</td>\n",
              "      <td>...</td>\n",
              "      <td>...</td>\n",
              "    </tr>\n",
              "    <tr>\n",
              "      <th>89.198.144.227</th>\n",
              "      <th>Mozilla/5.0 (Linux; Android 8.0.0; SM-A720F) AppleWebKit/537.36 (KHTML, like Gecko) Chrome/71.0.3578.98 Mobile Safari/537.36</th>\n",
              "      <td>10</td>\n",
              "      <td>0.871780</td>\n",
              "      <td>0.000000</td>\n",
              "      <td>0.0</td>\n",
              "      <td>12216.900000</td>\n",
              "      <td>0</td>\n",
              "      <td>0 days 00:00:00.222222222</td>\n",
              "      <td>0.000000</td>\n",
              "    </tr>\n",
              "    <tr>\n",
              "      <th>5.117.172.83</th>\n",
              "      <th>Mozilla/5.0 (Linux; Android 8.1.0; TA-1032) AppleWebKit/537.36 (KHTML, like Gecko) Chrome/71.0.3578.99 Mobile Safari/537.36</th>\n",
              "      <td>10</td>\n",
              "      <td>0.748331</td>\n",
              "      <td>0.000000</td>\n",
              "      <td>0.0</td>\n",
              "      <td>23716.800000</td>\n",
              "      <td>0</td>\n",
              "      <td>0 days 00:00:11.111111111</td>\n",
              "      <td>0.000000</td>\n",
              "    </tr>\n",
              "    <tr>\n",
              "      <th>185.174.200.175</th>\n",
              "      <th>Mozilla/5.0 (Linux; Android 6.0; CAM-L21 Build/HUAWEICAM-L21) AppleWebKit/537.36 (KHTML, like Gecko) Chrome/67.0.3396.87 Mobile Safari/537.36</th>\n",
              "      <td>10</td>\n",
              "      <td>0.000000</td>\n",
              "      <td>0.000000</td>\n",
              "      <td>0.0</td>\n",
              "      <td>2382.600000</td>\n",
              "      <td>0</td>\n",
              "      <td>0 days 00:00:02.444444444</td>\n",
              "      <td>0.000000</td>\n",
              "    </tr>\n",
              "    <tr>\n",
              "      <th>2.187.201.53</th>\n",
              "      <th>Dalvik/1.6.0 (Linux; U; Android 4.4.2; D2105 Build/20.1.B.2.29)</th>\n",
              "      <td>10</td>\n",
              "      <td>0.000000</td>\n",
              "      <td>0.000000</td>\n",
              "      <td>0.0</td>\n",
              "      <td>3265.300000</td>\n",
              "      <td>0</td>\n",
              "      <td>0 days 00:02:22</td>\n",
              "      <td>1.000000</td>\n",
              "    </tr>\n",
              "    <tr>\n",
              "      <th>5.239.179.149</th>\n",
              "      <th>Mozilla/5.0 (Windows NT 6.1; Win64; x64) AppleWebKit/537.36 (KHTML, like Gecko) Chrome/71.0.3578.98 Safari/537.36</th>\n",
              "      <td>10</td>\n",
              "      <td>1.483240</td>\n",
              "      <td>0.000000</td>\n",
              "      <td>0.0</td>\n",
              "      <td>19671.500000</td>\n",
              "      <td>0</td>\n",
              "      <td>0 days 00:00:00.222222222</td>\n",
              "      <td>0.000000</td>\n",
              "    </tr>\n",
              "  </tbody>\n",
              "</table>\n",
              "<p>95445 rows × 8 columns</p>\n",
              "</div>"
            ],
            "text/plain": [
              "                                                                    requests_count  ...  percentage_unassigned_referer\n",
              "client          user_agent                                                          ...                               \n",
              "66.249.66.194   Mozilla/5.0 (Linux; Android 6.0.1; Nexus 5X Bui...          155139  ...                       0.999098\n",
              "66.249.66.91    Mozilla/5.0 (Linux; Android 6.0.1; Nexus 5X Bui...           75600  ...                       0.970979\n",
              "                Googlebot-Image/1.0                                          65272  ...                       1.000000\n",
              "66.249.66.194   Mozilla/5.0 (compatible; Googlebot/2.1; +http:/...           53339  ...                       1.000000\n",
              "66.249.66.91    Mozilla/5.0 (compatible; Googlebot/2.1; +http:/...           47535  ...                       1.000000\n",
              "...                                                                            ...  ...                            ...\n",
              "89.198.144.227  Mozilla/5.0 (Linux; Android 8.0.0; SM-A720F) Ap...              10  ...                       0.000000\n",
              "5.117.172.83    Mozilla/5.0 (Linux; Android 8.1.0; TA-1032) App...              10  ...                       0.000000\n",
              "185.174.200.175 Mozilla/5.0 (Linux; Android 6.0; CAM-L21 Build/...              10  ...                       0.000000\n",
              "2.187.201.53    Dalvik/1.6.0 (Linux; U; Android 4.4.2; D2105 Bu...              10  ...                       1.000000\n",
              "5.239.179.149   Mozilla/5.0 (Windows NT 6.1; Win64; x64) AppleW...              10  ...                       0.000000\n",
              "\n",
              "[95445 rows x 8 columns]"
            ]
          },
          "execution_count": 36,
          "metadata": {},
          "output_type": "execute_result"
        }
      ],
      "source": [
        "# We drop all the session with less than 10 requests.\n",
        "session_df.drop(session_df[session_df[\"requests_count\"] < 10].index, inplace=True)\n",
        "session_df"
      ],
      "id": "sound-rating"
    },
    {
      "cell_type": "markdown",
      "metadata": {
        "id": "spanish-truck"
      },
      "source": [
        "## Q10. (Optional) The last but not the least! (+5 points)\n",
        "\n",
        "There is another novel feature which you must implement it in this section. Read about it below:\n",
        "\n",
        "\n",
        "**Percentage of consecutive repeated HTTP requests** – a numerical attribute calculated as **the number of repeated requests sent in sequence belonging to the same web directory sent by a user during a session**. For instance, a series of requests for web pages matching pattern ‘/cshome/course/\\*.\\* will be marked as consecutive repeated HTTP requests. However, a request to web page ‘/cshome/index.html’ followed by a request to a web page ‘cshome/courses/index.html’ will **not** be marked as consecutive repeated requests.\n",
        "\n",
        "\n",
        "Fill the function below to add this column to the existing  session DataFrame."
      ],
      "id": "spanish-truck"
    },
    {
      "cell_type": "code",
      "execution_count": null,
      "metadata": {
        "id": "remarkable-classification"
      },
      "outputs": [],
      "source": [
        "def generate_features(session_df, logs_df):\n",
        "    # TODO: Implement this function that takes two pd.DataFrame\n",
        "    # and return the session DataFrame with 7 features\n",
        "\n",
        "    \n",
        "    ############# Your code here ############\n",
        "    logs_df['endpoint_not_last'] = logs_df['request'].apply(lambda x: '/'.join(x.split('/')[:-1]))\n",
        "    session_df['endpoint_not_last'] = pd.DataFrame(logs_df[['client', 'user_agent', 'endpoint_not_last']] \\\n",
        "                                           .drop_duplicates().groupby(['client', 'user_agent'], observed=True).count())\n",
        "    session_df['endpoint_with_last'] = pd.DataFrame(logs_df[['client', 'user_agent', 'request']] \\\n",
        "                                           .drop_duplicates().groupby(['client', 'user_agent'], observed=True).count())\n",
        "    session_df['consecutive_repeated'] = session_df['endpoint_with_last'] - session_df['endpoint_not_last'] \n",
        "    session_df = session_df.drop(['endpoint_with_last', 'endpoint_not_last'], axis=1)\n",
        "    #########################################\n",
        "    \n",
        "    return session_df\n",
        "\n",
        "session_df = generate_features(session_df, logs_df)\n",
        "# assert session_df.shape == (128537, 9)"
      ],
      "id": "remarkable-classification"
    },
    {
      "cell_type": "code",
      "execution_count": null,
      "metadata": {
        "colab": {
          "base_uri": "https://localhost:8080/",
          "height": 1000
        },
        "id": "KZ-d-yQjPyGN",
        "outputId": "01cadfe1-5367-4bb0-87f7-a7c93419671e"
      },
      "outputs": [
        {
          "data": {
            "text/html": [
              "<div>\n",
              "<style scoped>\n",
              "    .dataframe tbody tr th:only-of-type {\n",
              "        vertical-align: middle;\n",
              "    }\n",
              "\n",
              "    .dataframe tbody tr th {\n",
              "        vertical-align: top;\n",
              "    }\n",
              "\n",
              "    .dataframe thead th {\n",
              "        text-align: right;\n",
              "    }\n",
              "</style>\n",
              "<table border=\"1\" class=\"dataframe\">\n",
              "  <thead>\n",
              "    <tr style=\"text-align: right;\">\n",
              "      <th></th>\n",
              "      <th></th>\n",
              "      <th>requests_count</th>\n",
              "      <th>STD_endpoint_len</th>\n",
              "      <th>percentage_4xx_status</th>\n",
              "      <th>percentage_head_request</th>\n",
              "      <th>average_size</th>\n",
              "      <th>Robot.txt</th>\n",
              "      <th>average_time_between</th>\n",
              "      <th>percentage_unassigned_referer</th>\n",
              "      <th>consecutive_repeated</th>\n",
              "    </tr>\n",
              "    <tr>\n",
              "      <th>client</th>\n",
              "      <th>user_agent</th>\n",
              "      <th></th>\n",
              "      <th></th>\n",
              "      <th></th>\n",
              "      <th></th>\n",
              "      <th></th>\n",
              "      <th></th>\n",
              "      <th></th>\n",
              "      <th></th>\n",
              "      <th></th>\n",
              "    </tr>\n",
              "  </thead>\n",
              "  <tbody>\n",
              "    <tr>\n",
              "      <th>66.249.66.194</th>\n",
              "      <th>Mozilla/5.0 (Linux; Android 6.0.1; Nexus 5X Build/MMB29P) AppleWebKit/537.36 (KHTML, like Gecko) Chrome/41.0.2272.96 Mobile Safari/537.36 (compatible; Googlebot/2.1; +http://www.google.com/bot.html)</th>\n",
              "      <td>155139</td>\n",
              "      <td>0.591475</td>\n",
              "      <td>0.014748</td>\n",
              "      <td>0.0</td>\n",
              "      <td>19955.741973</td>\n",
              "      <td>0</td>\n",
              "      <td>0 days 00:00:02.611636091</td>\n",
              "      <td>0.999098</td>\n",
              "      <td>29379</td>\n",
              "    </tr>\n",
              "    <tr>\n",
              "      <th rowspan=\"2\" valign=\"top\">66.249.66.91</th>\n",
              "      <th>Mozilla/5.0 (Linux; Android 6.0.1; Nexus 5X Build/MMB29P) AppleWebKit/537.36 (KHTML, like Gecko) Chrome/41.0.2272.96 Mobile Safari/537.36 (compatible; Googlebot/2.1; +http://www.google.com/bot.html)</th>\n",
              "      <td>75600</td>\n",
              "      <td>0.227304</td>\n",
              "      <td>0.000159</td>\n",
              "      <td>0.0</td>\n",
              "      <td>2498.271190</td>\n",
              "      <td>0</td>\n",
              "      <td>0 days 00:00:05.341896056</td>\n",
              "      <td>0.970979</td>\n",
              "      <td>58</td>\n",
              "    </tr>\n",
              "    <tr>\n",
              "      <th>Googlebot-Image/1.0</th>\n",
              "      <td>65272</td>\n",
              "      <td>0.506843</td>\n",
              "      <td>0.000000</td>\n",
              "      <td>0.0</td>\n",
              "      <td>3392.344865</td>\n",
              "      <td>0</td>\n",
              "      <td>0 days 00:00:06.206600174</td>\n",
              "      <td>1.000000</td>\n",
              "      <td>2740</td>\n",
              "    </tr>\n",
              "    <tr>\n",
              "      <th>66.249.66.194</th>\n",
              "      <th>Mozilla/5.0 (compatible; Googlebot/2.1; +http://www.google.com/bot.html)</th>\n",
              "      <td>53339</td>\n",
              "      <td>0.814362</td>\n",
              "      <td>0.079435</td>\n",
              "      <td>0.0</td>\n",
              "      <td>24904.015055</td>\n",
              "      <td>1</td>\n",
              "      <td>0 days 00:00:07.596254077</td>\n",
              "      <td>1.000000</td>\n",
              "      <td>21073</td>\n",
              "    </tr>\n",
              "    <tr>\n",
              "      <th>66.249.66.91</th>\n",
              "      <th>Mozilla/5.0 (compatible; Googlebot/2.1; +http://www.google.com/bot.html)</th>\n",
              "      <td>47535</td>\n",
              "      <td>0.444961</td>\n",
              "      <td>0.000968</td>\n",
              "      <td>0.0</td>\n",
              "      <td>39104.241885</td>\n",
              "      <td>1</td>\n",
              "      <td>0 days 00:00:08.523625194</td>\n",
              "      <td>1.000000</td>\n",
              "      <td>33645</td>\n",
              "    </tr>\n",
              "    <tr>\n",
              "      <th>...</th>\n",
              "      <th>...</th>\n",
              "      <td>...</td>\n",
              "      <td>...</td>\n",
              "      <td>...</td>\n",
              "      <td>...</td>\n",
              "      <td>...</td>\n",
              "      <td>...</td>\n",
              "      <td>...</td>\n",
              "      <td>...</td>\n",
              "      <td>...</td>\n",
              "    </tr>\n",
              "    <tr>\n",
              "      <th>89.198.144.227</th>\n",
              "      <th>Mozilla/5.0 (Linux; Android 8.0.0; SM-A720F) AppleWebKit/537.36 (KHTML, like Gecko) Chrome/71.0.3578.98 Mobile Safari/537.36</th>\n",
              "      <td>10</td>\n",
              "      <td>0.871780</td>\n",
              "      <td>0.000000</td>\n",
              "      <td>0.0</td>\n",
              "      <td>12216.900000</td>\n",
              "      <td>0</td>\n",
              "      <td>0 days 00:00:00.222222222</td>\n",
              "      <td>0.000000</td>\n",
              "      <td>1</td>\n",
              "    </tr>\n",
              "    <tr>\n",
              "      <th>5.117.172.83</th>\n",
              "      <th>Mozilla/5.0 (Linux; Android 8.1.0; TA-1032) AppleWebKit/537.36 (KHTML, like Gecko) Chrome/71.0.3578.99 Mobile Safari/537.36</th>\n",
              "      <td>10</td>\n",
              "      <td>0.748331</td>\n",
              "      <td>0.000000</td>\n",
              "      <td>0.0</td>\n",
              "      <td>23716.800000</td>\n",
              "      <td>0</td>\n",
              "      <td>0 days 00:00:11.111111111</td>\n",
              "      <td>0.000000</td>\n",
              "      <td>2</td>\n",
              "    </tr>\n",
              "    <tr>\n",
              "      <th>185.174.200.175</th>\n",
              "      <th>Mozilla/5.0 (Linux; Android 6.0; CAM-L21 Build/HUAWEICAM-L21) AppleWebKit/537.36 (KHTML, like Gecko) Chrome/67.0.3396.87 Mobile Safari/537.36</th>\n",
              "      <td>10</td>\n",
              "      <td>0.000000</td>\n",
              "      <td>0.000000</td>\n",
              "      <td>0.0</td>\n",
              "      <td>2382.600000</td>\n",
              "      <td>0</td>\n",
              "      <td>0 days 00:00:02.444444444</td>\n",
              "      <td>0.000000</td>\n",
              "      <td>4</td>\n",
              "    </tr>\n",
              "    <tr>\n",
              "      <th>2.187.201.53</th>\n",
              "      <th>Dalvik/1.6.0 (Linux; U; Android 4.4.2; D2105 Build/20.1.B.2.29)</th>\n",
              "      <td>10</td>\n",
              "      <td>0.000000</td>\n",
              "      <td>0.000000</td>\n",
              "      <td>0.0</td>\n",
              "      <td>3265.300000</td>\n",
              "      <td>0</td>\n",
              "      <td>0 days 00:02:22</td>\n",
              "      <td>1.000000</td>\n",
              "      <td>4</td>\n",
              "    </tr>\n",
              "    <tr>\n",
              "      <th>5.239.179.149</th>\n",
              "      <th>Mozilla/5.0 (Windows NT 6.1; Win64; x64) AppleWebKit/537.36 (KHTML, like Gecko) Chrome/71.0.3578.98 Safari/537.36</th>\n",
              "      <td>10</td>\n",
              "      <td>1.483240</td>\n",
              "      <td>0.000000</td>\n",
              "      <td>0.0</td>\n",
              "      <td>19671.500000</td>\n",
              "      <td>0</td>\n",
              "      <td>0 days 00:00:00.222222222</td>\n",
              "      <td>0.000000</td>\n",
              "      <td>0</td>\n",
              "    </tr>\n",
              "  </tbody>\n",
              "</table>\n",
              "<p>95445 rows × 9 columns</p>\n",
              "</div>"
            ],
            "text/plain": [
              "                                                                    requests_count  ...  consecutive_repeated\n",
              "client          user_agent                                                          ...                      \n",
              "66.249.66.194   Mozilla/5.0 (Linux; Android 6.0.1; Nexus 5X Bui...          155139  ...                 29379\n",
              "66.249.66.91    Mozilla/5.0 (Linux; Android 6.0.1; Nexus 5X Bui...           75600  ...                    58\n",
              "                Googlebot-Image/1.0                                          65272  ...                  2740\n",
              "66.249.66.194   Mozilla/5.0 (compatible; Googlebot/2.1; +http:/...           53339  ...                 21073\n",
              "66.249.66.91    Mozilla/5.0 (compatible; Googlebot/2.1; +http:/...           47535  ...                 33645\n",
              "...                                                                            ...  ...                   ...\n",
              "89.198.144.227  Mozilla/5.0 (Linux; Android 8.0.0; SM-A720F) Ap...              10  ...                     1\n",
              "5.117.172.83    Mozilla/5.0 (Linux; Android 8.1.0; TA-1032) App...              10  ...                     2\n",
              "185.174.200.175 Mozilla/5.0 (Linux; Android 6.0; CAM-L21 Build/...              10  ...                     4\n",
              "2.187.201.53    Dalvik/1.6.0 (Linux; U; Android 4.4.2; D2105 Bu...              10  ...                     4\n",
              "5.239.179.149   Mozilla/5.0 (Windows NT 6.1; Win64; x64) AppleW...              10  ...                     0\n",
              "\n",
              "[95445 rows x 9 columns]"
            ]
          },
          "execution_count": 38,
          "metadata": {},
          "output_type": "execute_result"
        }
      ],
      "source": [
        "session_df"
      ],
      "id": "KZ-d-yQjPyGN"
    },
    {
      "cell_type": "markdown",
      "metadata": {
        "id": "brutal-treatment"
      },
      "source": [
        "# 4. Submission\n",
        "\n",
        "Please read the notes here carefully:\n",
        "\n",
        "1. Your codes **must not** include any loops. You just have to use Pandas functionality to answer the questions. Answers which have loops will lose points.\n",
        "\n",
        "2. The more beautiful and insightfull your plots and diagrams are, the more points you get. So please take your time and concentration to prepare a good report with nice diagrams. The main goal of this assignment is to challenge your abilities in python packages not in theories.\n",
        "\n",
        "3. Copy and paste all the functions you have implemented in a `Utils.py` file. Note that you won't need to add any other functions and you just have to copy and paste the functions which have ***\\\"Your code here\\\"*** comments in its body.\n",
        "\n",
        "4. The file you upload must be named as `[Student ID]-[Your name].zip` and it must contain **only 3 files**:\n",
        "\n",
        "  - `LogServerAnalysis.ipynb`\n",
        "  - `Utils.py`\n",
        "  - `Report.pdf`"
      ],
      "id": "brutal-treatment"
    }
  ],
  "metadata": {
    "colab": {
      "collapsed_sections": [
        "faced-willow"
      ],
      "provenance": []
    },
    "kernelspec": {
      "display_name": "Python 3",
      "language": "python",
      "name": "python3"
    },
    "language_info": {
      "codemirror_mode": {
        "name": "ipython",
        "version": 3
      },
      "file_extension": ".py",
      "mimetype": "text/x-python",
      "name": "python",
      "nbconvert_exporter": "python",
      "pygments_lexer": "ipython3",
      "version": "3.8.6rc1"
    }
  },
  "nbformat": 4,
  "nbformat_minor": 5
}